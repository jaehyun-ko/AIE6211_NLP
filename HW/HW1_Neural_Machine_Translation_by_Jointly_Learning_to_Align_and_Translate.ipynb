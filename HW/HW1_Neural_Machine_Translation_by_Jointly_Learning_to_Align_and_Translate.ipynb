{
  "cells": [
    {
      "cell_type": "markdown",
      "metadata": {
        "id": "jCmhb4u4vky1"
      },
      "source": [
        "# 3 - Neural Machine Translation by Jointly Learning to Align and Translate\n",
        "\n",
        "In this third notebook on sequence-to-sequence models using PyTorch and TorchText, we'll be implementing the model from [Neural Machine Translation by Jointly Learning to Align and Translate](https://arxiv.org/abs/1409.0473). This model achives our best perplexity yet, ~27 compared to ~34 for the previous model.\n",
        "\n",
        "## Introduction\n",
        "\n",
        "As a reminder, here is the general encoder-decoder model:\n",
        "\n",
        "![](https://github.com/bentrevett/pytorch-seq2seq/blob/master/assets/seq2seq1.png?raw=1)\n",
        "\n",
        "In the previous model, our architecture was set-up in a way to reduce \"information compression\" by explicitly passing the context vector, $z$, to the decoder at every time-step and by passing both the context vector and embedded input word, $d(y_t)$, along with the hidden state, $s_t$, to the linear layer, $f$, to make a prediction.\n",
        "\n",
        "![](https://github.com/bentrevett/pytorch-seq2seq/blob/master/assets/seq2seq7.png?raw=1)\n",
        "\n",
        "Even though we have reduced some of this compression, our context vector still needs to contain all of the information about the source sentence. The model implemented in this notebook avoids this compression by allowing the decoder to look at the entire source sentence (via its hidden states) at each decoding step! How does it do this? It uses *attention*. \n",
        "\n",
        "Attention works by first, calculating an attention vector, $a$, that is the length of the source sentence. The attention vector has the property that each element is between 0 and 1, and the entire vector sums to 1. We then calculate a weighted sum of our source sentence hidden states, $H$, to get a weighted source vector, $w$. \n",
        "\n",
        "$$w = \\sum_{i}a_ih_i$$\n",
        "\n",
        "We calculate a new weighted source vector every time-step when decoding, using it as input to our decoder RNN as well as the linear layer to make a prediction. We'll explain how to do all of this during the tutorial.\n",
        "\n",
        "## Preparing Data\n",
        "\n",
        "Again, the preparation is similar to last time.\n",
        "\n",
        "First we import all the required modules."
      ]
    },
    {
      "cell_type": "code",
      "execution_count": 1,
      "metadata": {
        "colab": {
          "base_uri": "https://localhost:8080/"
        },
        "id": "jkjF8iPvwovb",
        "outputId": "10bc2f27-d9da-4e77-977d-44cf608ca3b7"
      },
      "outputs": [],
      "source": [
        "# if you running this code with Colab, uncomment below and run it\n",
        "# !pip install torchtext==0.9.0\n",
        "# from google.colab import drive\n",
        "# drive.mount('/content/drive')"
      ]
    },
    {
      "cell_type": "code",
      "execution_count": 1,
      "metadata": {
        "id": "0TjJTMV1vky3"
      },
      "outputs": [
        {
          "name": "stderr",
          "output_type": "stream",
          "text": [
            "/home/kjh/anaconda3/envs/txtlegacy/lib/python3.9/site-packages/tqdm/auto.py:21: TqdmWarning: IProgress not found. Please update jupyter and ipywidgets. See https://ipywidgets.readthedocs.io/en/stable/user_install.html\n",
            "  from .autonotebook import tqdm as notebook_tqdm\n"
          ]
        }
      ],
      "source": [
        "import torch\n",
        "import torch.nn as nn\n",
        "import torch.optim as optim\n",
        "import torch.nn.functional as F\n",
        "\n",
        "from torchtext.legacy.datasets import Multi30k\n",
        "from torchtext.legacy.data import Field, BucketIterator\n",
        "\n",
        "import spacy\n",
        "import numpy as np\n",
        "\n",
        "import random\n",
        "import math\n",
        "import time"
      ]
    },
    {
      "cell_type": "markdown",
      "metadata": {
        "id": "mh8ejXK3vky4"
      },
      "source": [
        "Set the random seeds for reproducability."
      ]
    },
    {
      "cell_type": "code",
      "execution_count": 2,
      "metadata": {
        "id": "lrLLzclOvky4"
      },
      "outputs": [],
      "source": [
        "SEED = 120220210\n",
        "\n",
        "# 랜덤 시드 설정\n",
        "random.seed(SEED)\n",
        "np.random.seed(SEED)\n",
        "torch.manual_seed(SEED)\n",
        "torch.cuda.manual_seed(SEED)\n",
        "\n",
        "# CUDA 연산의 결과를 재현 가능하도록 설정\n",
        "torch.backends.cudnn.deterministic = True"
      ]
    },
    {
      "cell_type": "markdown",
      "metadata": {
        "id": "KnI1E2Wqvky4"
      },
      "source": [
        "Load the German and English spaCy models."
      ]
    },
    {
      "cell_type": "code",
      "execution_count": 3,
      "metadata": {
        "colab": {
          "base_uri": "https://localhost:8080/"
        },
        "id": "E84ChKCvvky4",
        "outputId": "4e55d5c4-e006-4447-c574-22037843b82d"
      },
      "outputs": [
        {
          "name": "stdout",
          "output_type": "stream",
          "text": [
            "\u001b[38;5;3m⚠ As of spaCy v3.0, shortcuts like 'en' are deprecated. Please use the\n",
            "full pipeline package name 'en_core_web_sm' instead.\u001b[0m\n",
            "Collecting en-core-web-sm==3.5.0\n",
            "  Downloading https://github.com/explosion/spacy-models/releases/download/en_core_web_sm-3.5.0/en_core_web_sm-3.5.0-py3-none-any.whl (12.8 MB)\n",
            "\u001b[2K     \u001b[90m━━━━━━━━━━━━━━━━━━━━━━━━━━━━━━━━━━━━━━━━\u001b[0m \u001b[32m12.8/12.8 MB\u001b[0m \u001b[31m8.0 MB/s\u001b[0m eta \u001b[36m0:00:00\u001b[0m00:01\u001b[0m00:01\u001b[0m\n",
            "\u001b[?25hRequirement already satisfied: spacy<3.6.0,>=3.5.0 in /home/kjh/anaconda3/envs/txtlegacy/lib/python3.9/site-packages (from en-core-web-sm==3.5.0) (3.5.1)\n",
            "Requirement already satisfied: cymem<2.1.0,>=2.0.2 in /home/kjh/anaconda3/envs/txtlegacy/lib/python3.9/site-packages (from spacy<3.6.0,>=3.5.0->en-core-web-sm==3.5.0) (2.0.7)\n",
            "Requirement already satisfied: spacy-legacy<3.1.0,>=3.0.11 in /home/kjh/anaconda3/envs/txtlegacy/lib/python3.9/site-packages (from spacy<3.6.0,>=3.5.0->en-core-web-sm==3.5.0) (3.0.12)\n",
            "Requirement already satisfied: catalogue<2.1.0,>=2.0.6 in /home/kjh/anaconda3/envs/txtlegacy/lib/python3.9/site-packages (from spacy<3.6.0,>=3.5.0->en-core-web-sm==3.5.0) (2.0.8)\n",
            "Requirement already satisfied: wasabi<1.2.0,>=0.9.1 in /home/kjh/anaconda3/envs/txtlegacy/lib/python3.9/site-packages (from spacy<3.6.0,>=3.5.0->en-core-web-sm==3.5.0) (1.1.1)\n",
            "Requirement already satisfied: smart-open<7.0.0,>=5.2.1 in /home/kjh/anaconda3/envs/txtlegacy/lib/python3.9/site-packages (from spacy<3.6.0,>=3.5.0->en-core-web-sm==3.5.0) (6.3.0)\n",
            "Requirement already satisfied: numpy>=1.15.0 in /home/kjh/anaconda3/envs/txtlegacy/lib/python3.9/site-packages (from spacy<3.6.0,>=3.5.0->en-core-web-sm==3.5.0) (1.24.2)\n",
            "Requirement already satisfied: requests<3.0.0,>=2.13.0 in /home/kjh/anaconda3/envs/txtlegacy/lib/python3.9/site-packages (from spacy<3.6.0,>=3.5.0->en-core-web-sm==3.5.0) (2.28.2)\n",
            "Requirement already satisfied: setuptools in /home/kjh/anaconda3/envs/txtlegacy/lib/python3.9/site-packages (from spacy<3.6.0,>=3.5.0->en-core-web-sm==3.5.0) (65.6.3)\n",
            "Requirement already satisfied: tqdm<5.0.0,>=4.38.0 in /home/kjh/anaconda3/envs/txtlegacy/lib/python3.9/site-packages (from spacy<3.6.0,>=3.5.0->en-core-web-sm==3.5.0) (4.65.0)\n",
            "Requirement already satisfied: jinja2 in /home/kjh/anaconda3/envs/txtlegacy/lib/python3.9/site-packages (from spacy<3.6.0,>=3.5.0->en-core-web-sm==3.5.0) (3.1.2)\n",
            "Requirement already satisfied: langcodes<4.0.0,>=3.2.0 in /home/kjh/anaconda3/envs/txtlegacy/lib/python3.9/site-packages (from spacy<3.6.0,>=3.5.0->en-core-web-sm==3.5.0) (3.3.0)\n",
            "Requirement already satisfied: srsly<3.0.0,>=2.4.3 in /home/kjh/anaconda3/envs/txtlegacy/lib/python3.9/site-packages (from spacy<3.6.0,>=3.5.0->en-core-web-sm==3.5.0) (2.4.6)\n",
            "Requirement already satisfied: thinc<8.2.0,>=8.1.8 in /home/kjh/anaconda3/envs/txtlegacy/lib/python3.9/site-packages (from spacy<3.6.0,>=3.5.0->en-core-web-sm==3.5.0) (8.1.9)\n",
            "Requirement already satisfied: typer<0.8.0,>=0.3.0 in /home/kjh/anaconda3/envs/txtlegacy/lib/python3.9/site-packages (from spacy<3.6.0,>=3.5.0->en-core-web-sm==3.5.0) (0.7.0)\n",
            "Requirement already satisfied: pathy>=0.10.0 in /home/kjh/anaconda3/envs/txtlegacy/lib/python3.9/site-packages (from spacy<3.6.0,>=3.5.0->en-core-web-sm==3.5.0) (0.10.1)\n",
            "Requirement already satisfied: spacy-loggers<2.0.0,>=1.0.0 in /home/kjh/anaconda3/envs/txtlegacy/lib/python3.9/site-packages (from spacy<3.6.0,>=3.5.0->en-core-web-sm==3.5.0) (1.0.4)\n",
            "Requirement already satisfied: preshed<3.1.0,>=3.0.2 in /home/kjh/anaconda3/envs/txtlegacy/lib/python3.9/site-packages (from spacy<3.6.0,>=3.5.0->en-core-web-sm==3.5.0) (3.0.8)\n",
            "Requirement already satisfied: packaging>=20.0 in /home/kjh/anaconda3/envs/txtlegacy/lib/python3.9/site-packages (from spacy<3.6.0,>=3.5.0->en-core-web-sm==3.5.0) (23.0)\n",
            "Requirement already satisfied: murmurhash<1.1.0,>=0.28.0 in /home/kjh/anaconda3/envs/txtlegacy/lib/python3.9/site-packages (from spacy<3.6.0,>=3.5.0->en-core-web-sm==3.5.0) (1.0.9)\n",
            "Requirement already satisfied: pydantic!=1.8,!=1.8.1,<1.11.0,>=1.7.4 in /home/kjh/anaconda3/envs/txtlegacy/lib/python3.9/site-packages (from spacy<3.6.0,>=3.5.0->en-core-web-sm==3.5.0) (1.10.7)\n",
            "Requirement already satisfied: typing-extensions>=4.2.0 in /home/kjh/anaconda3/envs/txtlegacy/lib/python3.9/site-packages (from pydantic!=1.8,!=1.8.1,<1.11.0,>=1.7.4->spacy<3.6.0,>=3.5.0->en-core-web-sm==3.5.0) (4.5.0)\n",
            "Requirement already satisfied: charset-normalizer<4,>=2 in /home/kjh/anaconda3/envs/txtlegacy/lib/python3.9/site-packages (from requests<3.0.0,>=2.13.0->spacy<3.6.0,>=3.5.0->en-core-web-sm==3.5.0) (3.1.0)\n",
            "Requirement already satisfied: certifi>=2017.4.17 in /home/kjh/anaconda3/envs/txtlegacy/lib/python3.9/site-packages (from requests<3.0.0,>=2.13.0->spacy<3.6.0,>=3.5.0->en-core-web-sm==3.5.0) (2022.12.7)\n",
            "Requirement already satisfied: idna<4,>=2.5 in /home/kjh/anaconda3/envs/txtlegacy/lib/python3.9/site-packages (from requests<3.0.0,>=2.13.0->spacy<3.6.0,>=3.5.0->en-core-web-sm==3.5.0) (3.4)\n",
            "Requirement already satisfied: urllib3<1.27,>=1.21.1 in /home/kjh/anaconda3/envs/txtlegacy/lib/python3.9/site-packages (from requests<3.0.0,>=2.13.0->spacy<3.6.0,>=3.5.0->en-core-web-sm==3.5.0) (1.26.15)\n",
            "Requirement already satisfied: blis<0.8.0,>=0.7.8 in /home/kjh/anaconda3/envs/txtlegacy/lib/python3.9/site-packages (from thinc<8.2.0,>=8.1.8->spacy<3.6.0,>=3.5.0->en-core-web-sm==3.5.0) (0.7.9)\n",
            "Requirement already satisfied: confection<1.0.0,>=0.0.1 in /home/kjh/anaconda3/envs/txtlegacy/lib/python3.9/site-packages (from thinc<8.2.0,>=8.1.8->spacy<3.6.0,>=3.5.0->en-core-web-sm==3.5.0) (0.0.4)\n",
            "Requirement already satisfied: click<9.0.0,>=7.1.1 in /home/kjh/anaconda3/envs/txtlegacy/lib/python3.9/site-packages (from typer<0.8.0,>=0.3.0->spacy<3.6.0,>=3.5.0->en-core-web-sm==3.5.0) (8.1.3)\n",
            "Requirement already satisfied: MarkupSafe>=2.0 in /home/kjh/anaconda3/envs/txtlegacy/lib/python3.9/site-packages (from jinja2->spacy<3.6.0,>=3.5.0->en-core-web-sm==3.5.0) (2.1.2)\n",
            "\u001b[38;5;2m✔ Download and installation successful\u001b[0m\n",
            "You can now load the package via spacy.load('en_core_web_sm')\n",
            "\u001b[38;5;3m⚠ As of spaCy v3.0, shortcuts like 'de' are deprecated. Please use the\n",
            "full pipeline package name 'de_core_news_sm' instead.\u001b[0m\n",
            "Collecting de-core-news-sm==3.5.0\n",
            "  Downloading https://github.com/explosion/spacy-models/releases/download/de_core_news_sm-3.5.0/de_core_news_sm-3.5.0-py3-none-any.whl (14.6 MB)\n",
            "\u001b[2K     \u001b[90m━━━━━━━━━━━━━━━━━━━━━━━━━━━━━━━━━━━━━━━━\u001b[0m \u001b[32m14.6/14.6 MB\u001b[0m \u001b[31m8.0 MB/s\u001b[0m eta \u001b[36m0:00:00\u001b[0m00:01\u001b[0m00:01\u001b[0m\n",
            "\u001b[?25hRequirement already satisfied: spacy<3.6.0,>=3.5.0 in /home/kjh/anaconda3/envs/txtlegacy/lib/python3.9/site-packages (from de-core-news-sm==3.5.0) (3.5.1)\n",
            "Requirement already satisfied: pydantic!=1.8,!=1.8.1,<1.11.0,>=1.7.4 in /home/kjh/anaconda3/envs/txtlegacy/lib/python3.9/site-packages (from spacy<3.6.0,>=3.5.0->de-core-news-sm==3.5.0) (1.10.7)\n",
            "Requirement already satisfied: murmurhash<1.1.0,>=0.28.0 in /home/kjh/anaconda3/envs/txtlegacy/lib/python3.9/site-packages (from spacy<3.6.0,>=3.5.0->de-core-news-sm==3.5.0) (1.0.9)\n",
            "Requirement already satisfied: spacy-loggers<2.0.0,>=1.0.0 in /home/kjh/anaconda3/envs/txtlegacy/lib/python3.9/site-packages (from spacy<3.6.0,>=3.5.0->de-core-news-sm==3.5.0) (1.0.4)\n",
            "Requirement already satisfied: pathy>=0.10.0 in /home/kjh/anaconda3/envs/txtlegacy/lib/python3.9/site-packages (from spacy<3.6.0,>=3.5.0->de-core-news-sm==3.5.0) (0.10.1)\n",
            "Requirement already satisfied: packaging>=20.0 in /home/kjh/anaconda3/envs/txtlegacy/lib/python3.9/site-packages (from spacy<3.6.0,>=3.5.0->de-core-news-sm==3.5.0) (23.0)\n",
            "Requirement already satisfied: jinja2 in /home/kjh/anaconda3/envs/txtlegacy/lib/python3.9/site-packages (from spacy<3.6.0,>=3.5.0->de-core-news-sm==3.5.0) (3.1.2)\n",
            "Requirement already satisfied: preshed<3.1.0,>=3.0.2 in /home/kjh/anaconda3/envs/txtlegacy/lib/python3.9/site-packages (from spacy<3.6.0,>=3.5.0->de-core-news-sm==3.5.0) (3.0.8)\n",
            "Requirement already satisfied: spacy-legacy<3.1.0,>=3.0.11 in /home/kjh/anaconda3/envs/txtlegacy/lib/python3.9/site-packages (from spacy<3.6.0,>=3.5.0->de-core-news-sm==3.5.0) (3.0.12)\n",
            "Requirement already satisfied: setuptools in /home/kjh/anaconda3/envs/txtlegacy/lib/python3.9/site-packages (from spacy<3.6.0,>=3.5.0->de-core-news-sm==3.5.0) (65.6.3)\n",
            "Requirement already satisfied: smart-open<7.0.0,>=5.2.1 in /home/kjh/anaconda3/envs/txtlegacy/lib/python3.9/site-packages (from spacy<3.6.0,>=3.5.0->de-core-news-sm==3.5.0) (6.3.0)\n",
            "Requirement already satisfied: thinc<8.2.0,>=8.1.8 in /home/kjh/anaconda3/envs/txtlegacy/lib/python3.9/site-packages (from spacy<3.6.0,>=3.5.0->de-core-news-sm==3.5.0) (8.1.9)\n",
            "Requirement already satisfied: tqdm<5.0.0,>=4.38.0 in /home/kjh/anaconda3/envs/txtlegacy/lib/python3.9/site-packages (from spacy<3.6.0,>=3.5.0->de-core-news-sm==3.5.0) (4.65.0)\n",
            "Requirement already satisfied: cymem<2.1.0,>=2.0.2 in /home/kjh/anaconda3/envs/txtlegacy/lib/python3.9/site-packages (from spacy<3.6.0,>=3.5.0->de-core-news-sm==3.5.0) (2.0.7)\n",
            "Requirement already satisfied: wasabi<1.2.0,>=0.9.1 in /home/kjh/anaconda3/envs/txtlegacy/lib/python3.9/site-packages (from spacy<3.6.0,>=3.5.0->de-core-news-sm==3.5.0) (1.1.1)\n",
            "Requirement already satisfied: langcodes<4.0.0,>=3.2.0 in /home/kjh/anaconda3/envs/txtlegacy/lib/python3.9/site-packages (from spacy<3.6.0,>=3.5.0->de-core-news-sm==3.5.0) (3.3.0)\n",
            "Requirement already satisfied: numpy>=1.15.0 in /home/kjh/anaconda3/envs/txtlegacy/lib/python3.9/site-packages (from spacy<3.6.0,>=3.5.0->de-core-news-sm==3.5.0) (1.24.2)\n",
            "Requirement already satisfied: typer<0.8.0,>=0.3.0 in /home/kjh/anaconda3/envs/txtlegacy/lib/python3.9/site-packages (from spacy<3.6.0,>=3.5.0->de-core-news-sm==3.5.0) (0.7.0)\n",
            "Requirement already satisfied: catalogue<2.1.0,>=2.0.6 in /home/kjh/anaconda3/envs/txtlegacy/lib/python3.9/site-packages (from spacy<3.6.0,>=3.5.0->de-core-news-sm==3.5.0) (2.0.8)\n",
            "Requirement already satisfied: requests<3.0.0,>=2.13.0 in /home/kjh/anaconda3/envs/txtlegacy/lib/python3.9/site-packages (from spacy<3.6.0,>=3.5.0->de-core-news-sm==3.5.0) (2.28.2)\n",
            "Requirement already satisfied: srsly<3.0.0,>=2.4.3 in /home/kjh/anaconda3/envs/txtlegacy/lib/python3.9/site-packages (from spacy<3.6.0,>=3.5.0->de-core-news-sm==3.5.0) (2.4.6)\n",
            "Requirement already satisfied: typing-extensions>=4.2.0 in /home/kjh/anaconda3/envs/txtlegacy/lib/python3.9/site-packages (from pydantic!=1.8,!=1.8.1,<1.11.0,>=1.7.4->spacy<3.6.0,>=3.5.0->de-core-news-sm==3.5.0) (4.5.0)\n",
            "Requirement already satisfied: charset-normalizer<4,>=2 in /home/kjh/anaconda3/envs/txtlegacy/lib/python3.9/site-packages (from requests<3.0.0,>=2.13.0->spacy<3.6.0,>=3.5.0->de-core-news-sm==3.5.0) (3.1.0)\n",
            "Requirement already satisfied: urllib3<1.27,>=1.21.1 in /home/kjh/anaconda3/envs/txtlegacy/lib/python3.9/site-packages (from requests<3.0.0,>=2.13.0->spacy<3.6.0,>=3.5.0->de-core-news-sm==3.5.0) (1.26.15)\n",
            "Requirement already satisfied: certifi>=2017.4.17 in /home/kjh/anaconda3/envs/txtlegacy/lib/python3.9/site-packages (from requests<3.0.0,>=2.13.0->spacy<3.6.0,>=3.5.0->de-core-news-sm==3.5.0) (2022.12.7)\n",
            "Requirement already satisfied: idna<4,>=2.5 in /home/kjh/anaconda3/envs/txtlegacy/lib/python3.9/site-packages (from requests<3.0.0,>=2.13.0->spacy<3.6.0,>=3.5.0->de-core-news-sm==3.5.0) (3.4)\n",
            "Requirement already satisfied: confection<1.0.0,>=0.0.1 in /home/kjh/anaconda3/envs/txtlegacy/lib/python3.9/site-packages (from thinc<8.2.0,>=8.1.8->spacy<3.6.0,>=3.5.0->de-core-news-sm==3.5.0) (0.0.4)\n",
            "Requirement already satisfied: blis<0.8.0,>=0.7.8 in /home/kjh/anaconda3/envs/txtlegacy/lib/python3.9/site-packages (from thinc<8.2.0,>=8.1.8->spacy<3.6.0,>=3.5.0->de-core-news-sm==3.5.0) (0.7.9)\n",
            "Requirement already satisfied: click<9.0.0,>=7.1.1 in /home/kjh/anaconda3/envs/txtlegacy/lib/python3.9/site-packages (from typer<0.8.0,>=0.3.0->spacy<3.6.0,>=3.5.0->de-core-news-sm==3.5.0) (8.1.3)\n",
            "Requirement already satisfied: MarkupSafe>=2.0 in /home/kjh/anaconda3/envs/txtlegacy/lib/python3.9/site-packages (from jinja2->spacy<3.6.0,>=3.5.0->de-core-news-sm==3.5.0) (2.1.2)\n",
            "\u001b[38;5;2m✔ Download and installation successful\u001b[0m\n",
            "You can now load the package via spacy.load('de_core_news_sm')\n"
          ]
        }
      ],
      "source": [
        "import locale\n",
        "locale.getpreferredencoding = lambda: \"UTF-8\"\n",
        "!python -m spacy download en\n",
        "!python -m spacy download de\n",
        "spacy_de = spacy.load('de_core_news_sm')\n",
        "spacy_en = spacy.load('en_core_web_sm')"
      ]
    },
    {
      "cell_type": "code",
      "execution_count": 7,
      "metadata": {},
      "outputs": [
        {
          "data": {
            "text/plain": [
              "['_config',\n",
              " '_meta',\n",
              " '_path',\n",
              " '_optimizer',\n",
              " '_pipe_meta',\n",
              " '_pipe_configs',\n",
              " 'vocab',\n",
              " '_components',\n",
              " '_disabled',\n",
              " 'max_length',\n",
              " 'tokenizer',\n",
              " 'batch_size',\n",
              " 'default_error_handler',\n",
              " '__module__',\n",
              " 'lang',\n",
              " 'Defaults',\n",
              " '__doc__',\n",
              " 'default_config',\n",
              " '__annotations__',\n",
              " 'factories',\n",
              " '_factory_meta',\n",
              " '__init__',\n",
              " '__init_subclass__',\n",
              " 'path',\n",
              " 'meta',\n",
              " 'config',\n",
              " 'disabled',\n",
              " 'factory_names',\n",
              " 'components',\n",
              " 'component_names',\n",
              " 'pipeline',\n",
              " 'pipe_names',\n",
              " 'pipe_factories',\n",
              " 'pipe_labels',\n",
              " 'has_factory',\n",
              " 'get_factory_name',\n",
              " 'get_factory_meta',\n",
              " 'set_factory_meta',\n",
              " 'get_pipe_meta',\n",
              " 'get_pipe_config',\n",
              " 'factory',\n",
              " 'component',\n",
              " 'analyze_pipes',\n",
              " 'get_pipe',\n",
              " 'create_pipe',\n",
              " 'create_pipe_from_source',\n",
              " 'add_pipe',\n",
              " '_get_pipe_index',\n",
              " 'has_pipe',\n",
              " 'replace_pipe',\n",
              " 'rename_pipe',\n",
              " 'remove_pipe',\n",
              " 'disable_pipe',\n",
              " 'enable_pipe',\n",
              " '__call__',\n",
              " 'disable_pipes',\n",
              " 'select_pipes',\n",
              " 'make_doc',\n",
              " '_ensure_doc',\n",
              " '_ensure_doc_with_context',\n",
              " 'update',\n",
              " 'rehearse',\n",
              " 'begin_training',\n",
              " 'initialize',\n",
              " 'resume_training',\n",
              " 'set_error_handler',\n",
              " 'evaluate',\n",
              " 'create_optimizer',\n",
              " 'use_params',\n",
              " 'pipe',\n",
              " '_has_gpu_model',\n",
              " '_multiprocessing_pipe',\n",
              " '_link_components',\n",
              " 'from_config',\n",
              " 'replace_listeners',\n",
              " 'to_disk',\n",
              " '_resolve_component_status',\n",
              " 'from_disk',\n",
              " 'to_bytes',\n",
              " 'from_bytes',\n",
              " '__dict__',\n",
              " '__weakref__',\n",
              " '__repr__',\n",
              " '__hash__',\n",
              " '__str__',\n",
              " '__getattribute__',\n",
              " '__setattr__',\n",
              " '__delattr__',\n",
              " '__lt__',\n",
              " '__le__',\n",
              " '__eq__',\n",
              " '__ne__',\n",
              " '__gt__',\n",
              " '__ge__',\n",
              " '__new__',\n",
              " '__reduce_ex__',\n",
              " '__reduce__',\n",
              " '__subclasshook__',\n",
              " '__format__',\n",
              " '__sizeof__',\n",
              " '__dir__',\n",
              " '__class__']"
            ]
          },
          "execution_count": 7,
          "metadata": {},
          "output_type": "execute_result"
        }
      ],
      "source": [
        "spacy_de.__dir__()"
      ]
    },
    {
      "cell_type": "code",
      "execution_count": 9,
      "metadata": {},
      "outputs": [
        {
          "data": {
            "text/plain": [
              "['__iter__',\n",
              " '__init__',\n",
              " '__len__',\n",
              " '__getitem__',\n",
              " '__contains__',\n",
              " '__new__',\n",
              " 'add_flag',\n",
              " 'reset_vectors',\n",
              " 'deduplicate_vectors',\n",
              " 'prune_vectors',\n",
              " 'get_vector',\n",
              " 'set_vector',\n",
              " 'has_vector',\n",
              " 'to_disk',\n",
              " 'from_disk',\n",
              " 'to_bytes',\n",
              " 'from_bytes',\n",
              " '_reset_cache',\n",
              " 'vectors',\n",
              " 'lang',\n",
              " 'vectors_length',\n",
              " 'lookups',\n",
              " 'strings',\n",
              " 'morphology',\n",
              " '_vectors',\n",
              " '_lookups',\n",
              " 'writing_system',\n",
              " 'get_noun_chunks',\n",
              " 'length',\n",
              " '_unused_object',\n",
              " 'lex_attr_getters',\n",
              " 'cfg',\n",
              " '__doc__',\n",
              " '__pyx_vtable__',\n",
              " '__reduce__',\n",
              " '__setstate__',\n",
              " '__repr__',\n",
              " '__hash__',\n",
              " '__str__',\n",
              " '__getattribute__',\n",
              " '__setattr__',\n",
              " '__delattr__',\n",
              " '__lt__',\n",
              " '__le__',\n",
              " '__eq__',\n",
              " '__ne__',\n",
              " '__gt__',\n",
              " '__ge__',\n",
              " '__reduce_ex__',\n",
              " '__subclasshook__',\n",
              " '__init_subclass__',\n",
              " '__format__',\n",
              " '__sizeof__',\n",
              " '__dir__',\n",
              " '__class__']"
            ]
          },
          "execution_count": 9,
          "metadata": {},
          "output_type": "execute_result"
        }
      ],
      "source": [
        "spacy_de.vocab.__dir__()"
      ]
    },
    {
      "cell_type": "code",
      "execution_count": 22,
      "metadata": {},
      "outputs": [
        {
          "data": {
            "text/plain": [
              "['__call__',\n",
              " '__init__',\n",
              " '__new__',\n",
              " '__reduce__',\n",
              " 'pipe',\n",
              " '_flush_cache',\n",
              " '_reset_cache',\n",
              " '_flush_specials',\n",
              " 'find_infix',\n",
              " 'find_prefix',\n",
              " 'find_suffix',\n",
              " '_load_special_cases',\n",
              " '_validate_special_case',\n",
              " 'add_special_case',\n",
              " '_reload_special_cases',\n",
              " 'explain',\n",
              " 'score',\n",
              " 'to_disk',\n",
              " 'from_disk',\n",
              " 'to_bytes',\n",
              " 'from_bytes',\n",
              " 'token_match',\n",
              " 'url_match',\n",
              " 'prefix_search',\n",
              " 'suffix_search',\n",
              " 'infix_finditer',\n",
              " 'rules',\n",
              " 'faster_heuristics',\n",
              " 'vocab',\n",
              " '__doc__',\n",
              " '__pyx_vtable__',\n",
              " '__repr__',\n",
              " '__hash__',\n",
              " '__str__',\n",
              " '__getattribute__',\n",
              " '__setattr__',\n",
              " '__delattr__',\n",
              " '__lt__',\n",
              " '__le__',\n",
              " '__eq__',\n",
              " '__ne__',\n",
              " '__gt__',\n",
              " '__ge__',\n",
              " '__reduce_ex__',\n",
              " '__subclasshook__',\n",
              " '__init_subclass__',\n",
              " '__format__',\n",
              " '__sizeof__',\n",
              " '__dir__',\n",
              " '__class__']"
            ]
          },
          "execution_count": 22,
          "metadata": {},
          "output_type": "execute_result"
        }
      ],
      "source": [
        "spacy_de.tokenizer.__dir__()"
      ]
    },
    {
      "attachments": {},
      "cell_type": "markdown",
      "metadata": {},
      "source": [
        "we can find that tokenizer needs data."
      ]
    },
    {
      "cell_type": "markdown",
      "metadata": {
        "id": "IgxtIeYcvky4"
      },
      "source": [
        "We create the tokenizers."
      ]
    },
    {
      "cell_type": "code",
      "execution_count": 17,
      "metadata": {
        "id": "pOKpxJxMvky5"
      },
      "outputs": [],
      "source": [
        "def tokenize_de(text):\n",
        "    \"\"\"\n",
        "    Tokenizes German text from a string into a list of strings\n",
        "    \"\"\"\n",
        "    # spacy_de를 이용하여 text를 토큰화하여 리스트로 반환\n",
        "    return [tok.text for tok in spacy_de.tokenizer(text)]\n",
        "\n",
        "def tokenize_en(text):\n",
        "    \"\"\"\n",
        "    Tokenizes English text from a string into a list of strings\n",
        "    \"\"\"\n",
        "    # spacy_en를 이용하여 text를 토큰화하여 리스트로 반환\n",
        "    return [tok.text for tok in spacy_en.tokenizer(text)]"
      ]
    },
    {
      "cell_type": "markdown",
      "metadata": {
        "id": "I-5iYz6Xvky5"
      },
      "source": [
        "The fields remain the same as before."
      ]
    },
    {
      "cell_type": "code",
      "execution_count": 25,
      "metadata": {
        "id": "4JSxob2Jvky5"
      },
      "outputs": [],
      "source": [
        "# 독일어 토큰화 함수를 사용하여 SRC 필드를 초기화합니다.\n",
        "# <sos>와 <eos>를 초기 토큰 및 종료 토큰으로 설정합니다.\n",
        "# 모든 토큰을 소문자로 변환합니다.\n",
        "SRC = Field(tokenize = tokenize_de, \n",
        "            init_token = '<sos>', \n",
        "            eos_token = '<eos>', \n",
        "            lower = True)\n",
        "\n",
        "TRG = Field(tokenize = tokenize_en, \n",
        "            init_token = '<sos>', \n",
        "            eos_token = '<eos>', \n",
        "            lower = True)"
      ]
    },
    {
      "cell_type": "markdown",
      "metadata": {
        "id": "OgCVRwj9vky6"
      },
      "source": [
        "Load the data."
      ]
    },
    {
      "cell_type": "code",
      "execution_count": 28,
      "metadata": {
        "id": "vU_oMKftvky6"
      },
      "outputs": [],
      "source": [
        "# Multi30k 데이터셋을 train, valid, test 데이터로 분리한다.\n",
        "# exts 매개변수는 각 언어의 확장자를 지정한다.\n",
        "# fields 매개변수는 각 언어의 필드를 지정한다.\n",
        "train_data, valid_data, test_data = Multi30k.splits(exts = ('.de', '.en'), \n",
        "                                                    fields = (SRC, TRG))"
      ]
    },
    {
      "cell_type": "code",
      "execution_count": 33,
      "metadata": {},
      "outputs": [
        {
          "data": {
            "text/plain": [
              "['examples',\n",
              " 'fields',\n",
              " '__module__',\n",
              " '__doc__',\n",
              " 'urls',\n",
              " 'name',\n",
              " 'dirname',\n",
              " 'splits',\n",
              " '__parameters__',\n",
              " 'sort_key',\n",
              " '__init__',\n",
              " 'split',\n",
              " '__getitem__',\n",
              " '__len__',\n",
              " '__iter__',\n",
              " '__getattr__',\n",
              " 'download',\n",
              " 'filter_examples',\n",
              " '__annotations__',\n",
              " 'functions',\n",
              " '__add__',\n",
              " 'register_function',\n",
              " 'register_datapipe_as_function',\n",
              " '__orig_bases__',\n",
              " '__dict__',\n",
              " '__weakref__',\n",
              " '__slots__',\n",
              " '_is_protocol',\n",
              " '__class_getitem__',\n",
              " '__init_subclass__',\n",
              " '__repr__',\n",
              " '__hash__',\n",
              " '__str__',\n",
              " '__getattribute__',\n",
              " '__setattr__',\n",
              " '__delattr__',\n",
              " '__lt__',\n",
              " '__le__',\n",
              " '__eq__',\n",
              " '__ne__',\n",
              " '__gt__',\n",
              " '__ge__',\n",
              " '__new__',\n",
              " '__reduce_ex__',\n",
              " '__reduce__',\n",
              " '__subclasshook__',\n",
              " '__format__',\n",
              " '__sizeof__',\n",
              " '__dir__',\n",
              " '__class__']"
            ]
          },
          "execution_count": 33,
          "metadata": {},
          "output_type": "execute_result"
        }
      ],
      "source": [
        "train_data.__dir__()"
      ]
    },
    {
      "cell_type": "code",
      "execution_count": 39,
      "metadata": {},
      "outputs": [
        {
          "data": {
            "text/plain": [
              "['src',\n",
              " 'trg',\n",
              " '__module__',\n",
              " '__doc__',\n",
              " 'fromJSON',\n",
              " 'fromdict',\n",
              " 'fromCSV',\n",
              " 'fromlist',\n",
              " 'fromtree',\n",
              " '__dict__',\n",
              " '__weakref__',\n",
              " '__repr__',\n",
              " '__hash__',\n",
              " '__str__',\n",
              " '__getattribute__',\n",
              " '__setattr__',\n",
              " '__delattr__',\n",
              " '__lt__',\n",
              " '__le__',\n",
              " '__eq__',\n",
              " '__ne__',\n",
              " '__gt__',\n",
              " '__ge__',\n",
              " '__init__',\n",
              " '__new__',\n",
              " '__reduce_ex__',\n",
              " '__reduce__',\n",
              " '__subclasshook__',\n",
              " '__init_subclass__',\n",
              " '__format__',\n",
              " '__sizeof__',\n",
              " '__dir__',\n",
              " '__class__']"
            ]
          },
          "execution_count": 39,
          "metadata": {},
          "output_type": "execute_result"
        }
      ],
      "source": [
        "train_data.examples[0].__dir__()"
      ]
    },
    {
      "cell_type": "code",
      "execution_count": 44,
      "metadata": {},
      "outputs": [
        {
          "name": "stdout",
          "output_type": "stream",
          "text": [
            "29000\n",
            "1014\n",
            "1000\n",
            "{'src': ['zwei', 'junge', 'weiße', 'männer', 'sind', 'im', 'freien', 'in', 'der', 'nähe', 'vieler', 'büsche', '.'], 'trg': ['two', 'young', ',', 'white', 'males', 'are', 'outside', 'near', 'many', 'bushes', '.']}\n"
          ]
        }
      ],
      "source": [
        "print(len(train_data.examples))\n",
        "print(len(valid_data.examples))\n",
        "print(len(test_data.examples))\n",
        "\n",
        "print(vars(train_data.examples[0]))\n"
      ]
    },
    {
      "cell_type": "code",
      "execution_count": 40,
      "metadata": {},
      "outputs": [
        {
          "data": {
            "text/plain": [
              "{'src': ['zwei',\n",
              "  'junge',\n",
              "  'weiße',\n",
              "  'männer',\n",
              "  'sind',\n",
              "  'im',\n",
              "  'freien',\n",
              "  'in',\n",
              "  'der',\n",
              "  'nähe',\n",
              "  'vieler',\n",
              "  'büsche',\n",
              "  '.'],\n",
              " 'trg': ['two',\n",
              "  'young',\n",
              "  ',',\n",
              "  'white',\n",
              "  'males',\n",
              "  'are',\n",
              "  'outside',\n",
              "  'near',\n",
              "  'many',\n",
              "  'bushes',\n",
              "  '.']}"
            ]
          },
          "execution_count": 40,
          "metadata": {},
          "output_type": "execute_result"
        }
      ],
      "source": [
        "train_data.examples[0].__dict__"
      ]
    },
    {
      "cell_type": "markdown",
      "metadata": {
        "id": "K3KswQU4vky6"
      },
      "source": [
        "Build the vocabulary."
      ]
    },
    {
      "cell_type": "code",
      "execution_count": 29,
      "metadata": {
        "id": "W0cUULpWvky6"
      },
      "outputs": [],
      "source": [
        "SRC.build_vocab(train_data, min_freq = 2) # train_data를 이용하여 SRC 단어장을 생성한다. 단어의 최소 등장 빈도는 2로 설정한다.\n",
        "TRG.build_vocab(train_data, min_freq = 2) # train_data를 이용하여 TRG 단어장을 생성한다. 단어의 최소 등장 빈도는 2로 설정한다."
      ]
    },
    {
      "cell_type": "code",
      "execution_count": 45,
      "metadata": {},
      "outputs": [
        {
          "data": {
            "text/plain": [
              "['sequential',\n",
              " 'use_vocab',\n",
              " 'init_token',\n",
              " 'eos_token',\n",
              " 'unk_token',\n",
              " 'fix_length',\n",
              " 'dtype',\n",
              " 'preprocessing',\n",
              " 'postprocessing',\n",
              " 'lower',\n",
              " 'tokenizer_args',\n",
              " 'tokenize',\n",
              " 'include_lengths',\n",
              " 'batch_first',\n",
              " 'pad_token',\n",
              " 'pad_first',\n",
              " 'truncate_first',\n",
              " 'stop_words',\n",
              " 'is_target',\n",
              " 'vocab',\n",
              " '__module__',\n",
              " '__doc__',\n",
              " 'vocab_cls',\n",
              " 'dtypes',\n",
              " 'ignore',\n",
              " '__init__',\n",
              " '__getstate__',\n",
              " '__setstate__',\n",
              " '__hash__',\n",
              " '__eq__',\n",
              " 'preprocess',\n",
              " 'process',\n",
              " 'pad',\n",
              " 'build_vocab',\n",
              " 'numericalize',\n",
              " '__dict__',\n",
              " '__weakref__',\n",
              " '__repr__',\n",
              " '__str__',\n",
              " '__getattribute__',\n",
              " '__setattr__',\n",
              " '__delattr__',\n",
              " '__lt__',\n",
              " '__le__',\n",
              " '__ne__',\n",
              " '__gt__',\n",
              " '__ge__',\n",
              " '__new__',\n",
              " '__reduce_ex__',\n",
              " '__reduce__',\n",
              " '__subclasshook__',\n",
              " '__init_subclass__',\n",
              " '__format__',\n",
              " '__sizeof__',\n",
              " '__dir__',\n",
              " '__class__']"
            ]
          },
          "execution_count": 45,
          "metadata": {},
          "output_type": "execute_result"
        }
      ],
      "source": [
        "SRC.__dir__()"
      ]
    },
    {
      "cell_type": "code",
      "execution_count": 47,
      "metadata": {},
      "outputs": [
        {
          "data": {
            "text/plain": [
              "['freqs',\n",
              " 'itos',\n",
              " 'unk_index',\n",
              " 'stoi',\n",
              " 'vectors',\n",
              " '__module__',\n",
              " '__doc__',\n",
              " 'UNK',\n",
              " '__init__',\n",
              " '_default_unk_index',\n",
              " '__getitem__',\n",
              " '__getstate__',\n",
              " '__setstate__',\n",
              " '__eq__',\n",
              " '__len__',\n",
              " 'lookup_indices',\n",
              " 'extend',\n",
              " 'load_vectors',\n",
              " 'set_vectors',\n",
              " '__dict__',\n",
              " '__weakref__',\n",
              " '__hash__',\n",
              " '__repr__',\n",
              " '__str__',\n",
              " '__getattribute__',\n",
              " '__setattr__',\n",
              " '__delattr__',\n",
              " '__lt__',\n",
              " '__le__',\n",
              " '__ne__',\n",
              " '__gt__',\n",
              " '__ge__',\n",
              " '__new__',\n",
              " '__reduce_ex__',\n",
              " '__reduce__',\n",
              " '__subclasshook__',\n",
              " '__init_subclass__',\n",
              " '__format__',\n",
              " '__sizeof__',\n",
              " '__dir__',\n",
              " '__class__']"
            ]
          },
          "execution_count": 47,
          "metadata": {},
          "output_type": "execute_result"
        }
      ],
      "source": [
        "SRC.vocab.__dir__()"
      ]
    },
    {
      "cell_type": "code",
      "execution_count": 48,
      "metadata": {},
      "outputs": [
        {
          "data": {
            "text/plain": [
              "[('.', 28809),\n",
              " ('ein', 18851),\n",
              " ('einem', 13711),\n",
              " ('in', 11895),\n",
              " ('eine', 9909),\n",
              " (',', 8938),\n",
              " ('und', 8925),\n",
              " ('mit', 8843),\n",
              " ('auf', 8745),\n",
              " ('mann', 7805),\n",
              " ('einer', 6765),\n",
              " ('der', 4990),\n",
              " ('frau', 4186),\n",
              " ('die', 3949),\n",
              " ('zwei', 3873),\n",
              " ('einen', 3479),\n",
              " ('im', 3107),\n",
              " ('an', 3062),\n",
              " ('von', 2363),\n",
              " ('sich', 2273)]"
            ]
          },
          "execution_count": 48,
          "metadata": {},
          "output_type": "execute_result"
        }
      ],
      "source": [
        "SRC.vocab.freqs.most_common(20)"
      ]
    },
    {
      "cell_type": "code",
      "execution_count": 52,
      "metadata": {},
      "outputs": [
        {
          "data": {
            "text/plain": [
              "[('a', 49165),\n",
              " ('.', 27623),\n",
              " ('in', 14886),\n",
              " ('the', 10955),\n",
              " ('on', 8035),\n",
              " ('man', 7781),\n",
              " ('is', 7525),\n",
              " ('and', 7379),\n",
              " ('of', 6871),\n",
              " ('with', 6179),\n",
              " ('woman', 3973),\n",
              " (',', 3963),\n",
              " ('two', 3886),\n",
              " ('are', 3717),\n",
              " ('to', 3128),\n",
              " ('people', 3122),\n",
              " ('at', 2927),\n",
              " ('an', 2861),\n",
              " ('wearing', 2623),\n",
              " ('shirt', 2324)]"
            ]
          },
          "execution_count": 52,
          "metadata": {},
          "output_type": "execute_result"
        }
      ],
      "source": [
        "TRG.vocab.freqs.most_common(20)"
      ]
    },
    {
      "cell_type": "code",
      "execution_count": 51,
      "metadata": {},
      "outputs": [
        {
          "name": "stdout",
          "output_type": "stream",
          "text": [
            "['<unk>', '<pad>', '<sos>', '<eos>', '.', 'ein', 'einem', 'in', 'eine', ',']\n",
            "['<unk>', '<pad>', '<sos>', '<eos>', 'a', '.', 'in', 'the', 'on', 'man']\n"
          ]
        }
      ],
      "source": [
        "print(SRC.vocab.itos[:10])\n",
        "print(TRG.vocab.itos[:10])"
      ]
    },
    {
      "cell_type": "markdown",
      "metadata": {
        "id": "DwjpxHZ9vky6"
      },
      "source": [
        "Define the device."
      ]
    },
    {
      "cell_type": "code",
      "execution_count": 53,
      "metadata": {
        "id": "SVNqlSrOvky6"
      },
      "outputs": [],
      "source": [
        "device = torch.device('cuda' if torch.cuda.is_available() else 'cpu')"
      ]
    },
    {
      "cell_type": "markdown",
      "metadata": {
        "id": "eFJMNGLgvky7"
      },
      "source": [
        "Create the iterators."
      ]
    },
    {
      "cell_type": "code",
      "execution_count": 54,
      "metadata": {
        "id": "wOSTYfAuvky7"
      },
      "outputs": [],
      "source": [
        "BATCH_SIZE = 512\n",
        "\n",
        "train_iterator, valid_iterator, test_iterator = BucketIterator.splits(\n",
        "    (train_data, valid_data, test_data), \n",
        "    batch_size = BATCH_SIZE,\n",
        "    device = device)"
      ]
    },
    {
      "cell_type": "code",
      "execution_count": 56,
      "metadata": {},
      "outputs": [
        {
          "data": {
            "text/plain": [
              "['batch_size',\n",
              " 'train',\n",
              " 'dataset',\n",
              " 'batch_size_fn',\n",
              " 'iterations',\n",
              " 'repeat',\n",
              " 'shuffle',\n",
              " 'sort',\n",
              " 'sort_within_batch',\n",
              " 'sort_key',\n",
              " 'device',\n",
              " 'random_shuffler',\n",
              " '_iterations_this_epoch',\n",
              " '_random_state_this_epoch',\n",
              " '_restored_from_state',\n",
              " '__module__',\n",
              " '__doc__',\n",
              " 'create_batches',\n",
              " '__init__',\n",
              " 'splits',\n",
              " 'data',\n",
              " 'init_epoch',\n",
              " 'epoch',\n",
              " '__len__',\n",
              " '__iter__',\n",
              " 'state_dict',\n",
              " 'load_state_dict',\n",
              " '__dict__',\n",
              " '__weakref__',\n",
              " '__repr__',\n",
              " '__hash__',\n",
              " '__str__',\n",
              " '__getattribute__',\n",
              " '__setattr__',\n",
              " '__delattr__',\n",
              " '__lt__',\n",
              " '__le__',\n",
              " '__eq__',\n",
              " '__ne__',\n",
              " '__gt__',\n",
              " '__ge__',\n",
              " '__new__',\n",
              " '__reduce_ex__',\n",
              " '__reduce__',\n",
              " '__subclasshook__',\n",
              " '__init_subclass__',\n",
              " '__format__',\n",
              " '__sizeof__',\n",
              " '__dir__',\n",
              " '__class__']"
            ]
          },
          "execution_count": 56,
          "metadata": {},
          "output_type": "execute_result"
        }
      ],
      "source": [
        "train_iterator.__dir__()"
      ]
    },
    {
      "cell_type": "code",
      "execution_count": 58,
      "metadata": {},
      "outputs": [
        {
          "data": {
            "text/plain": [
              "\n",
              "[torchtext.legacy.data.batch.Batch of size 512 from MULTI30K]\n",
              "\t[.src]:[torch.cuda.LongTensor of size 29x512 (GPU 0)]\n",
              "\t[.trg]:[torch.cuda.LongTensor of size 32x512 (GPU 0)]"
            ]
          },
          "execution_count": 58,
          "metadata": {},
          "output_type": "execute_result"
        }
      ],
      "source": [
        "next(iter(train_iterator))"
      ]
    },
    {
      "cell_type": "markdown",
      "metadata": {
        "id": "juKgMofIvky7"
      },
      "source": [
        "## Building the Seq2Seq Model\n",
        "\n",
        "### Encoder\n",
        "\n",
        "First, we'll build the encoder. Similar to the previous model, we only use a single layer GRU, however we now use a *bidirectional RNN*. With a bidirectional RNN, we have two RNNs in each layer. A *forward RNN* going over the embedded sentence from left to right (shown below in green), and a *backward RNN* going over the embedded sentence from right to left (teal). All we need to do in code is set `bidirectional = True` and then pass the embedded sentence to the RNN as before. \n",
        "\n",
        "![](https://github.com/bentrevett/pytorch-seq2seq/blob/master/assets/seq2seq8.png?raw=1)\n",
        "\n",
        "We now have:\n",
        "\n",
        "$$\\begin{align*}\n",
        "h_t^\\rightarrow &= \\text{EncoderGRU}^\\rightarrow(e(x_t^\\rightarrow),h_{t-1}^\\rightarrow)\\\\\n",
        "h_t^\\leftarrow &= \\text{EncoderGRU}^\\leftarrow(e(x_t^\\leftarrow),h_{t-1}^\\leftarrow)\n",
        "\\end{align*}$$\n",
        "\n",
        "Where $x_0^\\rightarrow = \\text{<sos>}, x_1^\\rightarrow = \\text{guten}$ and $x_0^\\leftarrow = \\text{<eos>}, x_1^\\leftarrow = \\text{morgen}$.\n",
        "\n",
        "As before, we only pass an input (`embedded`) to the RNN, which tells PyTorch to initialize both the forward and backward initial hidden states ($h_0^\\rightarrow$ and $h_0^\\leftarrow$, respectively) to a tensor of all zeros. We'll also get two context vectors, one from the forward RNN after it has seen the final word in the sentence, $z^\\rightarrow=h_T^\\rightarrow$, and one from the backward RNN after it has seen the first word in the sentence, $z^\\leftarrow=h_T^\\leftarrow$.\n",
        "\n",
        "The RNN returns `outputs` and `hidden`. \n",
        "\n",
        "`outputs` is of size **[src len, batch size, hid dim * num directions]** where the first `hid_dim` elements in the third axis are the hidden states from the top layer forward RNN, and the last `hid_dim` elements are hidden states from the top layer backward RNN. We can think of the third axis as being the forward and backward hidden states concatenated together other, i.e. $h_1 = [h_1^\\rightarrow; h_{T}^\\leftarrow]$, $h_2 = [h_2^\\rightarrow; h_{T-1}^\\leftarrow]$ and we can denote all encoder hidden states (forward and backwards concatenated together) as $H=\\{ h_1, h_2, ..., h_T\\}$.\n",
        "\n",
        "`hidden` is of size **[n layers * num directions, batch size, hid dim]**, where **[-2, :, :]** gives the top layer forward RNN hidden state after the final time-step (i.e. after it has seen the last word in the sentence) and **[-1, :, :]** gives the top layer backward RNN hidden state after the final time-step (i.e. after it has seen the first word in the sentence).\n",
        "\n",
        "As the decoder is not bidirectional, it only needs a single context vector, $z$, to use as its initial hidden state, $s_0$, and we currently have two, a forward and a backward one ($z^\\rightarrow=h_T^\\rightarrow$ and $z^\\leftarrow=h_T^\\leftarrow$, respectively). We solve this by concatenating the two context vectors together, passing them through a linear layer, $g$, and applying the $\\tanh$ activation function. \n",
        "\n",
        "$$z=\\tanh(g(h_T^\\rightarrow, h_T^\\leftarrow)) = \\tanh(g(z^\\rightarrow, z^\\leftarrow)) = s_0$$\n",
        "\n",
        "**Note**: this is actually a deviation from the paper. Instead, they feed only the first backward RNN hidden state through a linear layer to get the context vector/decoder initial hidden state. This doesn't seem to make sense to me, so we have changed it.\n",
        "\n",
        "As we want our model to look back over the whole of the source sentence we return `outputs`, the stacked forward and backward hidden states for every token in the source sentence. We also return `hidden`, which acts as our initial hidden state in the decoder."
      ]
    },
    {
      "cell_type": "code",
      "execution_count": 97,
      "metadata": {
        "id": "O58IxeJ3vky7"
      },
      "outputs": [],
      "source": [
        "class Encoder(nn.Module):\n",
        "    def __init__(self, input_dim, emb_dim, enc_hid_dim, dec_hid_dim, dropout):\n",
        "        super().__init__()\n",
        "        \n",
        "        self.embedding = nn.Embedding(input_dim, emb_dim) # 임베딩 레이어\n",
        "        \n",
        "        self.rnn = nn.GRU(emb_dim, enc_hid_dim, bidirectional = True) # 양방향 GRU 레이어\n",
        "        \n",
        "        self.fc = nn.Linear(enc_hid_dim * 2, dec_hid_dim) # 선형 레이어\n",
        "        \n",
        "        self.dropout = nn.Dropout(dropout) # 드롭아웃 레이어\n",
        "        \n",
        "    def forward(self, src):\n",
        "        \n",
        "        #src = [src len, batch size]\n",
        "        \n",
        "        embedded = self.dropout(self.embedding(src)) # 임베딩\n",
        "        \n",
        "        #embedded = [src len, batch size, emb dim]\n",
        "        \n",
        "        outputs, hidden = self.rnn(embedded) # 양방향 GRU 레이어\n",
        "        \n",
        "        #outputs = [src len, batch size, hid dim * num directions]\n",
        "        #hidden = [n layers * num directions, batch size, hid dim]\n",
        "        \n",
        "        #hidden is stacked [forward_1, backward_1, forward_2, backward_2, ...]\n",
        "        #outputs are always from the last layer\n",
        "        \n",
        "        #hidden [-2, :, : ] is the last of the forwards RNN \n",
        "        #hidden [-1, :, : ] is the last of the backwards RNN\n",
        "        \n",
        "        #initial decoder hidden is final hidden state of the forwards and backwards \n",
        "        #  encoder RNNs fed through a linear layer\n",
        "        \n",
        "        hidden = torch.tanh(self.fc(torch.cat((hidden[-2,:,:], hidden[-1,:,:]), dim = 1))) # 선형 레이어\n",
        "        \n",
        "        #outputs = [src len, batch size, enc hid dim * 2]\n",
        "        #hidden = [batch size, dec hid dim]\n",
        "        \n",
        "        return outputs, hidden"
      ]
    },
    {
      "cell_type": "code",
      "execution_count": 65,
      "metadata": {},
      "outputs": [],
      "source": [
        "dummy_encoder = Encoder(100, 256, 512, 512, 0.5)\n",
        "example_src = torch.LongTensor([[1,2,3,4,5,6,7,8,9,10,11,12,13,14,15,16,17,18,19,20]])\n",
        "dummy_encoder_outputs, dummy_encoder_hidden = dummy_encoder(example_src)"
      ]
    },
    {
      "cell_type": "code",
      "execution_count": 67,
      "metadata": {},
      "outputs": [
        {
          "name": "stdout",
          "output_type": "stream",
          "text": [
            "torch.Size([1, 20, 1024])\n",
            "torch.Size([20, 512])\n",
            "tensor([[[ 0.2953,  0.1980,  0.3187,  ..., -0.0409, -0.0824, -0.1014],\n",
            "         [-0.4718, -0.1440, -0.0953,  ...,  0.0996,  0.3089, -0.0241],\n",
            "         [-0.3840,  0.1870, -0.2285,  ...,  0.0952,  0.0022,  0.1213],\n",
            "         ...,\n",
            "         [ 0.1388, -0.0250,  0.2598,  ...,  0.1548, -0.0739, -0.1062],\n",
            "         [ 0.1485,  0.2943,  0.3038,  ...,  0.2179,  0.1191,  0.2483],\n",
            "         [ 0.3894, -0.4902, -0.0830,  ...,  0.3395, -0.4165, -0.1838]]],\n",
            "       grad_fn=<CatBackward0>)\n",
            "tensor([[ 0.1333, -0.0796,  0.0811,  ...,  0.1036,  0.0277,  0.0182],\n",
            "        [ 0.1410, -0.3436,  0.0208,  ..., -0.0740,  0.1757, -0.2197],\n",
            "        [ 0.0721,  0.0695,  0.0608,  ...,  0.1166, -0.0088, -0.0233],\n",
            "        ...,\n",
            "        [ 0.0748,  0.0924, -0.0291,  ...,  0.0758, -0.0851, -0.1338],\n",
            "        [ 0.2274,  0.0988, -0.0309,  ...,  0.0219, -0.0978, -0.1013],\n",
            "        [ 0.0482, -0.0913, -0.0509,  ..., -0.1669, -0.0727, -0.1779]],\n",
            "       grad_fn=<TanhBackward0>)\n"
          ]
        }
      ],
      "source": [
        "print(dummy_encoder_outputs.shape)\n",
        "print(dummy_encoder_hidden.shape)\n",
        "print(dummy_encoder_outputs)\n",
        "print(dummy_encoder_hidden)\n",
        "    "
      ]
    },
    {
      "cell_type": "markdown",
      "metadata": {
        "id": "j_Q9N7Jgvky8"
      },
      "source": [
        "### Attention\n",
        "\n",
        "Next up is the attention layer. This will take in the previous hidden state of the decoder, $s_{t-1}$, and all of the stacked forward and backward hidden states from the encoder, $H$. The layer will output an attention vector, $a_t$, that is the length of the source sentence, each element is between 0 and 1 and the entire vector sums to 1.\n",
        "\n",
        "Intuitively, this layer takes what we have decoded so far, $s_{t-1}$, and all of what we have encoded, $H$, to produce a vector, $a_t$, that represents which words in the source sentence we should pay the most attention to in order to correctly predict the next word to decode, $\\hat{y}_{t+1}$. \n",
        "\n",
        "First, we calculate the *energy* between the previous decoder hidden state and the encoder hidden states. As our encoder hidden states are a sequence of $T$ tensors, and our previous decoder hidden state is a single tensor, the first thing we do is `repeat` the previous decoder hidden state $T$ times. We then calculate the energy, $E_t$, between them by concatenating them together and passing them through a linear layer (`attn`) and a $\\tanh$ activation function. \n",
        "\n",
        "$$E_t = \\tanh(\\text{attn}(s_{t-1}, H))$$ \n",
        "\n",
        "This can be thought of as calculating how well each encoder hidden state \"matches\" the previous decoder hidden state.\n",
        "\n",
        "We currently have a **[dec hid dim, src len]** tensor for each example in the batch. We want this to be **[src len]** for each example in the batch as the attention should be over the length of the source sentence. This is achieved by multiplying the `energy` by a **[1, dec hid dim]** tensor, $v$.\n",
        "\n",
        "$$\\hat{a}_t = v E_t$$\n",
        "\n",
        "We can think of $v$ as the weights for a weighted sum of the energy across all encoder hidden states. These weights tell us how much we should attend to each token in the source sequence. The parameters of $v$ are initialized randomly, but learned with the rest of the model via backpropagation. Note how $v$ is not dependent on time, and the same $v$ is used for each time-step of the decoding. We implement $v$ as a linear layer without a bias.\n",
        "\n",
        "Finally, we ensure the attention vector fits the constraints of having all elements between 0 and 1 and the vector summing to 1 by passing it through a $\\text{softmax}$ layer.\n",
        "\n",
        "$$a_t = \\text{softmax}(\\hat{a_t})$$\n",
        "\n",
        "This gives us the attention over the source sentence!\n",
        "\n",
        "Graphically, this looks something like below. This is for calculating the very first attention vector, where $s_{t-1} = s_0 = z$. The green/teal blocks represent the hidden states from both the forward and backward RNNs, and the attention computation is all done within the pink block.\n",
        "\n",
        "![](https://github.com/bentrevett/pytorch-seq2seq/blob/master/assets/seq2seq9.png?raw=1)"
      ]
    },
    {
      "cell_type": "code",
      "execution_count": 70,
      "metadata": {
        "id": "16frNfLtvky8"
      },
      "outputs": [],
      "source": [
        "class Attention(nn.Module):\n",
        "    def __init__(self, enc_hid_dim, dec_hid_dim):\n",
        "        super().__init__()\n",
        "        \n",
        "        self.attn = nn.Linear((enc_hid_dim * 2) + dec_hid_dim, dec_hid_dim)\n",
        "        self.v = nn.Linear(dec_hid_dim, 1, bias = False)\n",
        "        \n",
        "    def forward(self, hidden, encoder_outputs):\n",
        "        \n",
        "        #hidden = [batch size, dec hid dim]\n",
        "        #encoder_outputs = [src len, batch size, enc hid dim * 2]\n",
        "        \n",
        "        batch_size = encoder_outputs.shape[1]\n",
        "        src_len = encoder_outputs.shape[0]\n",
        "        \n",
        "        #repeat decoder hidden state src_len times\n",
        "        hidden = hidden.unsqueeze(1).repeat(1, src_len, 1)\n",
        "        \n",
        "        encoder_outputs = encoder_outputs.permute(1, 0, 2)\n",
        "        \n",
        "        #hidden = [batch size, src len, dec hid dim]\n",
        "        #encoder_outputs = [batch size, src len, enc hid dim * 2]\n",
        "        \n",
        "        energy = torch.tanh(self.attn(torch.cat((hidden, encoder_outputs), dim = 2))) \n",
        "        \n",
        "        #energy = [batch size, src len, dec hid dim]\n",
        "\n",
        "        attention = self.v(energy).squeeze(2)\n",
        "        \n",
        "        #attention= [batch size, src len]\n",
        "        \n",
        "        return F.softmax(attention, dim=1)"
      ]
    },
    {
      "cell_type": "code",
      "execution_count": 71,
      "metadata": {},
      "outputs": [
        {
          "data": {
            "text/plain": [
              "torch.Size([1, 10])"
            ]
          },
          "execution_count": 71,
          "metadata": {},
          "output_type": "execute_result"
        }
      ],
      "source": [
        "attention_test = Attention(512, 512)\n",
        "dummy_encoder_hidden = torch.randn(1, 512)\n",
        "dummy_decoder_hidden = torch.randn(1, 512)\n",
        "dummy_encoder_outputs = torch.randn(10, 1, 1024)\n",
        "attention_test(dummy_decoder_hidden, dummy_encoder_outputs).shape"
      ]
    },
    {
      "cell_type": "markdown",
      "metadata": {
        "id": "aT3TNkrvvky8"
      },
      "source": [
        "### Decoder\n",
        "\n",
        "Next up is the decoder. \n",
        "\n",
        "The decoder contains the attention layer, `attention`, which takes the previous hidden state, $s_{t-1}$, all of the encoder hidden states, $H$, and returns the attention vector, $a_t$.\n",
        "\n",
        "We then use this attention vector to create a weighted source vector, $w_t$, denoted by `weighted`, which is a weighted sum of the encoder hidden states, $H$, using $a_t$ as the weights.\n",
        "\n",
        "$$w_t = a_t H$$\n",
        "\n",
        "The embedded input word, $d(y_t)$, the weighted source vector, $w_t$, and the previous decoder hidden state, $s_{t-1}$, are then all passed into the decoder RNN, with $d(y_t)$ and $w_t$ being concatenated together.\n",
        "\n",
        "$$s_t = \\text{DecoderGRU}(d(y_t), w_t, s_{t-1})$$\n",
        "\n",
        "We then pass $d(y_t)$, $w_t$ and $s_t$ through the linear layer, $f$, to make a prediction of the next word in the target sentence, $\\hat{y}_{t+1}$. This is done by concatenating them all together.\n",
        "\n",
        "$$\\hat{y}_{t+1} = f(d(y_t), w_t, s_t)$$\n",
        "\n",
        "The image below shows decoding the first word in an example translation.\n",
        "\n",
        "![](https://github.com/bentrevett/pytorch-seq2seq/blob/master/assets/seq2seq10.png?raw=1)\n",
        "\n",
        "The green/teal blocks show the forward/backward encoder RNNs which output $H$, the red block shows the context vector, $z = h_T = \\tanh(g(h^\\rightarrow_T,h^\\leftarrow_T)) = \\tanh(g(z^\\rightarrow, z^\\leftarrow)) = s_0$, the blue block shows the decoder RNN which outputs $s_t$, the purple block shows the linear layer, $f$, which outputs $\\hat{y}_{t+1}$ and the orange block shows the calculation of the weighted sum over $H$ by $a_t$ and outputs $w_t$. Not shown is the calculation of $a_t$."
      ]
    },
    {
      "cell_type": "code",
      "execution_count": 95,
      "metadata": {
        "id": "NYqUQ5B7vky8"
      },
      "outputs": [],
      "source": [
        "# Define a class named Decoder which inherits from nn.Module\n",
        "class Decoder(nn.Module):\n",
        "    # Define the constructor method which takes in output_dim, emb_dim, enc_hid_dim, dec_hid_dim, dropout, and attention as arguments\n",
        "    def __init__(self, output_dim, emb_dim, enc_hid_dim, dec_hid_dim, dropout, attention):\n",
        "        # Call the constructor of the parent class\n",
        "        super().__init__()\n",
        "\n",
        "        # Set the output_dim and attention attributes of the class\n",
        "        self.output_dim = output_dim\n",
        "        self.attention = attention\n",
        "        \n",
        "        # Create an embedding layer with output_dim and emb_dim as input and output dimensions respectively\n",
        "        self.embedding = nn.Embedding(output_dim, emb_dim)\n",
        "        \n",
        "        # Create a GRU layer with (enc_hid_dim * 2) + emb_dim as input dimension and dec_hid_dim as output dimension\n",
        "        self.rnn = nn.GRU((enc_hid_dim * 2) + emb_dim, dec_hid_dim)\n",
        "        \n",
        "        # Create a linear layer with (enc_hid_dim * 2) + dec_hid_dim + emb_dim as input dimension and output_dim as output dimension\n",
        "        self.fc_out = nn.Linear((enc_hid_dim * 2) + dec_hid_dim + emb_dim, output_dim)\n",
        "        \n",
        "        # Create a dropout layer with dropout as the probability of an element to be zeroed\n",
        "        self.dropout = nn.Dropout(dropout)\n",
        "        \n",
        "    def forward(self, input, hidden, encoder_outputs):\n",
        "             \n",
        "        #input = [batch size]\n",
        "        #hidden = [batch size, dec hid dim]\n",
        "        #encoder_outputs = [src len, batch size, enc hid dim * 2]\n",
        "        \n",
        "        input = input.unsqueeze(0)\n",
        "        \n",
        "        #input = [1, batch size]\n",
        "        \n",
        "        embedded = self.dropout(self.embedding(input))\n",
        "        \n",
        "        #embedded = [1, batch size, emb dim]\n",
        "        \n",
        "        a = self.attention(hidden, encoder_outputs)\n",
        "                \n",
        "        #a = [batch size, src len]\n",
        "        \n",
        "        a = a.unsqueeze(1)\n",
        "        \n",
        "        #a = [batch size, 1, src len]\n",
        "        \n",
        "        encoder_outputs = encoder_outputs.permute(1, 0, 2)\n",
        "        \n",
        "        #encoder_outputs = [batch size, src len, enc hid dim * 2]\n",
        "        \n",
        "        weighted = torch.bmm(a, encoder_outputs)\n",
        "        \n",
        "        #weighted = [batch size, 1, enc hid dim * 2]\n",
        "        \n",
        "        weighted = weighted.permute(1, 0, 2)\n",
        "        \n",
        "        #weighted = [1, batch size, enc hid dim * 2]\n",
        "        \n",
        "        rnn_input = torch.cat((embedded, weighted), dim = 2)\n",
        "        \n",
        "        #rnn_input = [1, batch size, (enc hid dim * 2) + emb dim]\n",
        "            \n",
        "        output, hidden = self.rnn(rnn_input, hidden.unsqueeze(0))\n",
        "        \n",
        "        #output = [seq len, batch size, dec hid dim * n directions]\n",
        "        #hidden = [n layers * n directions, batch size, dec hid dim]\n",
        "        \n",
        "        #seq len, n layers and n directions will always be 1 in this decoder, therefore:\n",
        "        #output = [1, batch size, dec hid dim]\n",
        "        #hidden = [1, batch size, dec hid dim]\n",
        "        #this also means that output == hidden\n",
        "        assert (output == hidden).all()\n",
        "        \n",
        "        embedded = embedded.squeeze(0)\n",
        "        output = output.squeeze(0)\n",
        "        weighted = weighted.squeeze(0)\n",
        "        \n",
        "        prediction = self.fc_out(torch.cat((output, weighted, embedded), dim = 1))\n",
        "        \n",
        "        #prediction = [batch size, output dim]\n",
        "        \n",
        "        return prediction, hidden.squeeze(0)"
      ]
    },
    {
      "attachments": {},
      "cell_type": "markdown",
      "metadata": {},
      "source": [
        "위의 Decoder 클래스에서 forward 메서드는 세 개의 인자인 input, hidden, encoder_outputs를 받습니다.\n",
        "\n",
        "input은 현재 시점의 입력 시퀀스로, 크기는 [batch_size]입니다.\n",
        "\n",
        "hidden은 디코더의 현재 은닉 상태로, 크기는 [num_layers * num_directions, batch_size, hidden_size]입니다. 이전 시점에서의 은닉 상태를 이용하여 현재 시점에서의 출력을 예측합니다.\n",
        "\n",
        "encoder_outputs은 인코더 모델의 출력으로, 크기는 [src_len, batch_size, hidden_size*num_directions]입니다. 이는 인코더의 입력 시퀀스를 디코더 모델이 생성하는 시퀀스에 맞게 변환된 값입니다.\n",
        "\n",
        "forward 메서드에서는 우선 input을 임베딩합니다. 그리고 attention 모듈에 hidden과 encoder_outputs를 인자로 전달하여 디코더의 출력에 대한 어텐션 가중치 a를 계산합니다.\n",
        "\n",
        "a는 크기가 [batch_size, src_len]인 2D 텐서입니다. 그리고 unsqueeze(1)을 이용하여 크기를 [batch_size, 1, src_len]으로 변환합니다.\n",
        "\n",
        "인코더 모델의 출력 encoder_outputs는 permute 메서드를 이용하여 [batch_size, src_len, hidden_size*num_directions]에서 [src_len, batch_size, hidden_size*num_directions]으로 변환한 후 a와 encoder_outputs를 bmm 메서드를 이용하여 가중합을 계산합니다. 이를 이용하여 가중합된 값을 구합니다.\n",
        "\n",
        "그리고 구한 값을 이용하여 디코더의 입력 벡터 rnn_input을 만듭니다. 이전 시점의 은닉 상태 hidden과 함께 rnn 모듈에 전달하여 현재 시점의 출력 output과 은닉 상태 hidden을 구합니다.\n",
        "\n",
        "마지막으로, output, weighted, embedded를 torch.cat을 이용하여 결합한 후, fc_out 모듈에 전달하여 출력값을 계산합니다.\n",
        "\n",
        "Decoder 클래스에서 출력값 prediction은 [batch_size, output_dim]의 크기를 가집니다. 디코더의 출력은 마지막 선형 계층인 fc_out을 통해 구한 값입니다."
      ]
    },
    {
      "cell_type": "code",
      "execution_count": 82,
      "metadata": {},
      "outputs": [
        {
          "name": "stdout",
          "output_type": "stream",
          "text": [
            "torch.Size([1, 10]) torch.Size([1, 32])\n"
          ]
        }
      ],
      "source": [
        "output_dim = 10\n",
        "emb_dim = 8\n",
        "enc_hid_dim = 16\n",
        "dec_hid_dim = 32\n",
        "dropout = 0.1\n",
        "attention = Attention(enc_hid_dim, dec_hid_dim)\n",
        "\n",
        "decoder = Decoder(output_dim, emb_dim, enc_hid_dim, dec_hid_dim, dropout, attention)\n",
        "\n",
        "input = torch.LongTensor([2])\n",
        "hidden = torch.zeros(1, dec_hid_dim)\n",
        "encoder_outputs = torch.randn(5, 1, enc_hid_dim * 2)\n",
        "\n",
        "output, hidden = decoder(input, hidden, encoder_outputs)\n",
        "print(output.size(), hidden.size())  # torch.Size([1, 10]) torch.Size([1, 32])"
      ]
    },
    {
      "cell_type": "markdown",
      "metadata": {
        "id": "KPtlJIq3vky9"
      },
      "source": [
        "### Seq2Seq\n",
        "\n",
        "This is the first model where we don't have to have the encoder RNN and decoder RNN have the same hidden dimensions, however the encoder has to be bidirectional. This requirement can be removed by changing all occurences of `enc_dim * 2` to `enc_dim * 2 if encoder_is_bidirectional else enc_dim`. \n",
        "\n",
        "This seq2seq encapsulator is similar to the last two. The only difference is that the `encoder` returns both the final hidden state (which is the final hidden state from both the forward and backward encoder RNNs passed through a linear layer) to be used as the initial hidden state for the decoder, as well as every hidden state (which are the forward and backward hidden states stacked on top of each other). We also need to ensure that `hidden` and `encoder_outputs` are passed to the decoder. \n",
        "\n",
        "Briefly going over all of the steps:\n",
        "- the `outputs` tensor is created to hold all predictions, $\\hat{Y}$\n",
        "- the source sequence, $X$, is fed into the encoder to receive $z$ and $H$\n",
        "- the initial decoder hidden state is set to be the `context` vector, $s_0 = z = h_T$\n",
        "- we use a batch of `<sos>` tokens as the first `input`, $y_1$\n",
        "- we then decode within a loop:\n",
        "  - inserting the input token $y_t$, previous hidden state, $s_{t-1}$, and all encoder outputs, $H$, into the decoder\n",
        "  - receiving a prediction, $\\hat{y}_{t+1}$, and a new hidden state, $s_t$\n",
        "  - we then decide if we are going to teacher force or not, setting the next input as appropriate"
      ]
    },
    {
      "cell_type": "code",
      "execution_count": 98,
      "metadata": {
        "id": "go4VJCRjvky9"
      },
      "outputs": [],
      "source": [
        "class Seq2Seq(nn.Module):\n",
        "    def __init__(self, encoder, decoder, device):\n",
        "        super().__init__()\n",
        "        \n",
        "        self.encoder = encoder\n",
        "        self.decoder = decoder\n",
        "        self.device = device\n",
        "        \n",
        "    def forward(self, src, trg, teacher_forcing_ratio = 0.5):\n",
        "        \n",
        "        #src = [src len, batch size]\n",
        "        #trg = [trg len, batch size]\n",
        "        #teacher_forcing_ratio is probability to use teacher forcing\n",
        "        #e.g. if teacher_forcing_ratio is 0.75 we use teacher forcing 75% of the time\n",
        "        \n",
        "        batch_size = src.shape[1]\n",
        "        if trg is None:\n",
        "            trg = torch.zeros((25, src.shape[1])).fill_(2).long().to(src.device)\n",
        "            assert teacher_forcing_ratio == 0\n",
        "        trg_len = trg.shape[0]\n",
        "        trg_vocab_size = self.decoder.output_dim\n",
        "        \n",
        "        #tensor to store decoder outputs\n",
        "        outputs = torch.zeros(trg_len, batch_size, trg_vocab_size).to(self.device)\n",
        "        \n",
        "        #encoder_outputs is all hidden states of the input sequence, back and forwards\n",
        "        #hidden is the final forward and backward hidden states, passed through a linear layer\n",
        "        encoder_outputs, hidden = self.encoder(src)\n",
        "                \n",
        "        #first input to the decoder is the <sos> tokens\n",
        "        input = trg[0,:]\n",
        "        \n",
        "        for t in range(1, trg_len):\n",
        "            \n",
        "            #insert input token embedding, previous hidden state and all encoder hidden states\n",
        "            #receive output tensor (predictions) and new hidden state\n",
        "            output, hidden = self.decoder(input, hidden, encoder_outputs)\n",
        "            \n",
        "            #place predictions in a tensor holding predictions for each token\n",
        "            outputs[t] = output\n",
        "            \n",
        "            #decide if we are going to use teacher forcing or not\n",
        "            teacher_force = random.random() < teacher_forcing_ratio\n",
        "            \n",
        "            #get the highest predicted token from our predictions\n",
        "            top1 = output.argmax(1) \n",
        "            \n",
        "            #if teacher forcing, use actual next token as next input\n",
        "            #if not, use predicted token\n",
        "            input = trg[t] if teacher_force else top1\n",
        "\n",
        "        return outputs"
      ]
    },
    {
      "cell_type": "markdown",
      "metadata": {
        "id": "FT9uvTFlvky9"
      },
      "source": [
        "## Training the Seq2Seq Model\n",
        "\n",
        "The rest of this tutorial is very similar to the previous one.\n",
        "\n",
        "We initialise our parameters, encoder, decoder and seq2seq model (placing it on the GPU if we have one). "
      ]
    },
    {
      "cell_type": "code",
      "execution_count": 99,
      "metadata": {
        "id": "UN5VVkvqvky9"
      },
      "outputs": [],
      "source": [
        "INPUT_DIM = len(SRC.vocab)\n",
        "OUTPUT_DIM = len(TRG.vocab)\n",
        "ENC_EMB_DIM = 256\n",
        "DEC_EMB_DIM = 256\n",
        "ENC_HID_DIM = 512\n",
        "DEC_HID_DIM = 512\n",
        "ENC_DROPOUT = 0.5\n",
        "DEC_DROPOUT = 0.5\n",
        "\n",
        "attn = Attention(ENC_HID_DIM, DEC_HID_DIM)\n",
        "enc = Encoder(INPUT_DIM, ENC_EMB_DIM, ENC_HID_DIM, DEC_HID_DIM, ENC_DROPOUT)\n",
        "dec = Decoder(OUTPUT_DIM, DEC_EMB_DIM, ENC_HID_DIM, DEC_HID_DIM, DEC_DROPOUT, attn)\n",
        "\n",
        "model = Seq2Seq(enc, dec, device).to(device)"
      ]
    },
    {
      "attachments": {},
      "cell_type": "markdown",
      "metadata": {
        "id": "eINHpxZcvky9"
      },
      "source": [
        "We use a simplified version of the weight initialization scheme used in the paper. Here, we will initialize all biases to zero and all weights from $\\mathcal{N}(0, 0.01)$.\n",
        "신경망 모델의 가중치를 초기화하는 함수 init_weights를 정의하고, 이를 모델 객체의 apply 메소드를 통해 적용하는 코드입니다.\n",
        "init_weights 함수에서는 모든 가중치 텐서의 값을 정규 분포에서 추출한 난수로 초기화합니다. 표준 편차는 0.01로, 평균은 0입니다. 이 함수는 bias 값은 0으로 초기화합니다.\n",
        "model.apply(init_weights) 코드는 init_weights 함수를 모델의 모든 파라미터에 적용하는 역할을 합니다. 즉, 이 함수는 모델 내의 모든 가중치와 bias를 지정된 방법으로 초기화합니다."
      ]
    },
    {
      "cell_type": "code",
      "execution_count": 16,
      "metadata": {
        "colab": {
          "base_uri": "https://localhost:8080/"
        },
        "id": "MU38c3nevky9",
        "outputId": "caf8d1a0-6502-4faa-bf7d-5b494f6b5e50"
      },
      "outputs": [
        {
          "data": {
            "text/plain": [
              "Seq2Seq(\n",
              "  (encoder): Encoder(\n",
              "    (embedding): Embedding(7853, 256)\n",
              "    (rnn): GRU(256, 512, bidirectional=True)\n",
              "    (fc): Linear(in_features=1024, out_features=512, bias=True)\n",
              "    (dropout): Dropout(p=0.5, inplace=False)\n",
              "  )\n",
              "  (decoder): Decoder(\n",
              "    (attention): Attention(\n",
              "      (attn): Linear(in_features=1536, out_features=512, bias=True)\n",
              "      (v): Linear(in_features=512, out_features=1, bias=False)\n",
              "    )\n",
              "    (embedding): Embedding(5893, 256)\n",
              "    (rnn): GRU(1280, 512)\n",
              "    (fc_out): Linear(in_features=1792, out_features=5893, bias=True)\n",
              "    (dropout): Dropout(p=0.5, inplace=False)\n",
              "  )\n",
              ")"
            ]
          },
          "execution_count": 16,
          "metadata": {},
          "output_type": "execute_result"
        }
      ],
      "source": [
        "def init_weights(m):\n",
        "    for name, param in m.named_parameters():\n",
        "        if 'weight' in name:\n",
        "            nn.init.normal_(param.data, mean=0, std=0.01)\n",
        "        else:\n",
        "            nn.init.constant_(param.data, 0)\n",
        "            \n",
        "model.apply(init_weights)"
      ]
    },
    {
      "cell_type": "markdown",
      "metadata": {
        "id": "23QJwpDUvky9"
      },
      "source": [
        "Calculate the number of parameters. We get an increase of almost 50% in the amount of parameters from the last model. "
      ]
    },
    {
      "cell_type": "code",
      "execution_count": 17,
      "metadata": {
        "colab": {
          "base_uri": "https://localhost:8080/"
        },
        "id": "AcCOax_Vvky9",
        "outputId": "4a40f7ab-3c4e-4e72-f586-4acabe29f6ac"
      },
      "outputs": [
        {
          "name": "stdout",
          "output_type": "stream",
          "text": [
            "The model has 20,518,405 trainable parameters\n"
          ]
        }
      ],
      "source": [
        "def count_parameters(model):\n",
        "    return sum(p.numel() for p in model.parameters() if p.requires_grad)\n",
        "\n",
        "print(f'The model has {count_parameters(model):,} trainable parameters')"
      ]
    },
    {
      "cell_type": "markdown",
      "metadata": {
        "id": "HwnnUMmIvky-"
      },
      "source": [
        "We create an optimizer."
      ]
    },
    {
      "cell_type": "code",
      "execution_count": 18,
      "metadata": {
        "id": "mhiSRYe4vky-"
      },
      "outputs": [],
      "source": [
        "optimizer = optim.Adam(model.parameters())"
      ]
    },
    {
      "cell_type": "markdown",
      "metadata": {
        "id": "1ry-OqaIvky-"
      },
      "source": [
        "We initialize the loss function."
      ]
    },
    {
      "cell_type": "code",
      "execution_count": 19,
      "metadata": {
        "id": "N4I5aWrhvky-"
      },
      "outputs": [],
      "source": [
        "TRG_PAD_IDX = TRG.vocab.stoi[TRG.pad_token]\n",
        "\n",
        "criterion = nn.CrossEntropyLoss(ignore_index = TRG_PAD_IDX)"
      ]
    },
    {
      "cell_type": "markdown",
      "metadata": {
        "id": "nT0hHjyNvky-"
      },
      "source": [
        "We then create the training loop..."
      ]
    },
    {
      "cell_type": "code",
      "execution_count": 20,
      "metadata": {
        "id": "1q97H7lmvky-"
      },
      "outputs": [],
      "source": [
        "def train(model, iterator, optimizer, criterion, clip):\n",
        "    \n",
        "    model.train()\n",
        "    \n",
        "    epoch_loss = 0\n",
        "    \n",
        "    for i, batch in enumerate(iterator):\n",
        "        \n",
        "        src = batch.src\n",
        "        trg = batch.trg\n",
        "        \n",
        "        optimizer.zero_grad()\n",
        "        \n",
        "        output = model(src, trg)\n",
        "        \n",
        "        #trg = [trg len, batch size]\n",
        "        #output = [trg len, batch size, output dim]\n",
        "        \n",
        "        output_dim = output.shape[-1]\n",
        "        \n",
        "        output = output[1:].view(-1, output_dim)\n",
        "        trg = trg[1:].view(-1)\n",
        "        \n",
        "        #trg = [(trg len - 1) * batch size]\n",
        "        #output = [(trg len - 1) * batch size, output dim]\n",
        "        \n",
        "        loss = criterion(output, trg)\n",
        "        \n",
        "        loss.backward()\n",
        "        \n",
        "        torch.nn.utils.clip_grad_norm_(model.parameters(), clip)\n",
        "        \n",
        "        optimizer.step()\n",
        "        \n",
        "        epoch_loss += loss.item()\n",
        "        \n",
        "    return epoch_loss / len(iterator)"
      ]
    },
    {
      "cell_type": "markdown",
      "metadata": {
        "id": "IjbqsWx9vky-"
      },
      "source": [
        "...and the evaluation loop, remembering to set the model to `eval` mode and turn off teaching forcing."
      ]
    },
    {
      "cell_type": "code",
      "execution_count": 21,
      "metadata": {
        "id": "udcXISMQvky-"
      },
      "outputs": [],
      "source": [
        "def evaluate(model, iterator, criterion):\n",
        "    \n",
        "    model.eval()\n",
        "    \n",
        "    epoch_loss = 0\n",
        "    \n",
        "    with torch.no_grad():\n",
        "    \n",
        "        for i, batch in enumerate(iterator):\n",
        "\n",
        "            src = batch.src\n",
        "            trg = batch.trg\n",
        "\n",
        "            output = model(src, trg, 0) #turn off teacher forcing\n",
        "\n",
        "            #trg = [trg len, batch size]\n",
        "            #output = [trg len, batch size, output dim]\n",
        "\n",
        "            output_dim = output.shape[-1]\n",
        "            \n",
        "            output = output[1:].view(-1, output_dim)\n",
        "            trg = trg[1:].view(-1)\n",
        "\n",
        "            #trg = [(trg len - 1) * batch size]\n",
        "            #output = [(trg len - 1) * batch size, output dim]\n",
        "\n",
        "            loss = criterion(output, trg)\n",
        "\n",
        "            epoch_loss += loss.item()\n",
        "        \n",
        "    return epoch_loss / len(iterator)"
      ]
    },
    {
      "cell_type": "markdown",
      "metadata": {
        "id": "FEgiUONMvky-"
      },
      "source": [
        "Finally, define a timing function."
      ]
    },
    {
      "cell_type": "code",
      "execution_count": 22,
      "metadata": {
        "id": "L9dI1DnDvky-"
      },
      "outputs": [],
      "source": [
        "def epoch_time(start_time, end_time):\n",
        "    elapsed_time = end_time - start_time\n",
        "    elapsed_mins = int(elapsed_time / 60)\n",
        "    elapsed_secs = int(elapsed_time - (elapsed_mins * 60))\n",
        "    return elapsed_mins, elapsed_secs"
      ]
    },
    {
      "attachments": {},
      "cell_type": "markdown",
      "metadata": {
        "id": "R-k0YZ_bvky-"
      },
      "source": [
        "Then, we train our model, saving the parameters that give us the best validation loss.\n",
        "\n",
        " 모델을 학습하는 루프입니다. N_EPOCHS번 반복하면서 각 에폭마다 다음 작업들을 수행합니다.\n",
        "\n",
        "train 함수를 호출하여 모델을 학습합니다. 이 함수는 모델을 훈련하는 데 사용되는 train_iterator를 이용하여 학습 데이터셋에 대한 forward 및 backward 연산을 수행하고, optimizer를 사용하여 모델의 파라미터를 업데이트합니다. criterion은 손실 함수입니다.\n",
        "evaluate 함수를 호출하여 모델의 성능을 평가합니다. 이 함수는 모델을 이용하여 valid_iterator를 이용하여 검증 데이터셋에 대한 forward 연산을 수행하고, criterion에 의해 계산된 검증 손실 값을 반환합니다.\n",
        "에폭별 통계 정보와 손실 값을 출력합니다. 훈련 손실과 검증 손실을 출력하고, 훈련 손실과 검증 손실의 지수(exp) 값을 출력합니다. 이 값을 통해 얼마나 잘 훈련되었는지를 측정할 수 있습니다.\n",
        "검증 손실이 가장 낮은 경우, 모델을 저장합니다.\n",
        "CLIP 변수는 기울기 폭발 방지를 위한 gradient clipping의 임계값을 설정합니다. epoch_time 함수는 현재 에폭이 끝나는데 걸린 시간을 계산하여 출력합니다. best_valid_loss는 가장 낮은 검증 손실 값을 저장하는 변수입니다. 새로운 검증 손실이 이 값보다 낮은 경우, 모델 파라미터를 저장합니다."
      ]
    },
    {
      "cell_type": "code",
      "execution_count": 23,
      "metadata": {
        "colab": {
          "base_uri": "https://localhost:8080/",
          "height": 923
        },
        "id": "hFOzIXTcvky_",
        "outputId": "bddbfda5-7427-4200-958c-d9952fe51534"
      },
      "outputs": [
        {
          "name": "stdout",
          "output_type": "stream",
          "text": [
            "Epoch: 01 | Time: 3m 51s\n",
            "\tTrain Loss: 5.705 | Train PPL: 300.435\n",
            "\t Val. Loss: 5.042 |  Val. PPL: 154.779\n",
            "Epoch: 02 | Time: 3m 53s\n",
            "\tTrain Loss: 4.863 | Train PPL: 129.463\n",
            "\t Val. Loss: 5.035 |  Val. PPL: 153.704\n",
            "Epoch: 03 | Time: 3m 57s\n",
            "\tTrain Loss: 4.508 | Train PPL:  90.745\n",
            "\t Val. Loss: 4.822 |  Val. PPL: 124.221\n",
            "Epoch: 04 | Time: 3m 54s\n",
            "\tTrain Loss: 4.303 | Train PPL:  73.936\n",
            "\t Val. Loss: 4.774 |  Val. PPL: 118.367\n",
            "Epoch: 05 | Time: 3m 51s\n",
            "\tTrain Loss: 4.107 | Train PPL:  60.735\n",
            "\t Val. Loss: 4.589 |  Val. PPL:  98.423\n",
            "Epoch: 06 | Time: 3m 45s\n",
            "\tTrain Loss: 3.945 | Train PPL:  51.701\n",
            "\t Val. Loss: 4.534 |  Val. PPL:  93.170\n",
            "Epoch: 07 | Time: 1m 42s\n",
            "\tTrain Loss: 3.748 | Train PPL:  42.443\n",
            "\t Val. Loss: 4.289 |  Val. PPL:  72.868\n",
            "Epoch: 08 | Time: 1m 28s\n",
            "\tTrain Loss: 3.479 | Train PPL:  32.420\n",
            "\t Val. Loss: 4.075 |  Val. PPL:  58.839\n",
            "Epoch: 09 | Time: 1m 20s\n",
            "\tTrain Loss: 3.275 | Train PPL:  26.431\n",
            "\t Val. Loss: 3.793 |  Val. PPL:  44.378\n",
            "Epoch: 10 | Time: 1m 14s\n",
            "\tTrain Loss: 3.032 | Train PPL:  20.738\n",
            "\t Val. Loss: 3.655 |  Val. PPL:  38.664\n"
          ]
        }
      ],
      "source": [
        "N_EPOCHS = 10\n",
        "CLIP = 1\n",
        "\n",
        "best_valid_loss = float('inf')\n",
        "\n",
        "for epoch in range(N_EPOCHS):\n",
        "    \n",
        "    start_time = time.time()\n",
        "    \n",
        "    train_loss = train(model, train_iterator, optimizer, criterion, CLIP)\n",
        "    valid_loss = evaluate(model, valid_iterator, criterion)\n",
        "    \n",
        "    end_time = time.time()\n",
        "    \n",
        "    epoch_mins, epoch_secs = epoch_time(start_time, end_time)\n",
        "    \n",
        "    if valid_loss < best_valid_loss:\n",
        "        best_valid_loss = valid_loss\n",
        "        torch.save(model.state_dict(), 'tut3-model.pt')\n",
        "    \n",
        "    print(f'Epoch: {epoch+1:02} | Time: {epoch_mins}m {epoch_secs}s')\n",
        "    print(f'\\tTrain Loss: {train_loss:.3f} | Train PPL: {math.exp(train_loss):7.3f}')\n",
        "    print(f'\\t Val. Loss: {valid_loss:.3f} |  Val. PPL: {math.exp(valid_loss):7.3f}')"
      ]
    },
    {
      "cell_type": "markdown",
      "metadata": {
        "id": "BUgKZg4rvky_"
      },
      "source": [
        "Finally, we test the model on the test set using these \"best\" parameters."
      ]
    },
    {
      "cell_type": "code",
      "execution_count": 25,
      "metadata": {
        "colab": {
          "base_uri": "https://localhost:8080/"
        },
        "id": "ypoi9w2kvky_",
        "outputId": "59a35671-082f-44d3-a8ec-4743b87a29bd"
      },
      "outputs": [
        {
          "name": "stdout",
          "output_type": "stream",
          "text": [
            "| Test Loss: 3.667 | Test PPL:  39.146 |\n"
          ]
        }
      ],
      "source": [
        "model.load_state_dict(torch.load('tut3-model.pt'))\n",
        "\n",
        "test_loss = evaluate(model, test_iterator, criterion)\n",
        "\n",
        "print(f'| Test Loss: {test_loss:.3f} | Test PPL: {math.exp(test_loss):7.3f} |')"
      ]
    },
    {
      "cell_type": "markdown",
      "metadata": {
        "id": "w5SRbf6cvky_"
      },
      "source": [
        "We've improved on the previous model, but this came at the cost of doubling the training time.\n",
        "\n",
        "In the next notebook, we'll be using the same architecture but using a few tricks that are applicable to all RNN architectures - packed padded sequences and masking. We'll also implement code which will allow us to look at what words in the input the RNN is paying attention to when decoding the output."
      ]
    },
    {
      "cell_type": "code",
      "execution_count": 26,
      "metadata": {
        "id": "YrG75aVlYIHt"
      },
      "outputs": [
        {
          "data": {
            "text/plain": [
              "tensor([[ 2,  2,  2,  ...,  2,  2,  2],\n",
              "        [24,  4,  4,  ...,  4, 16,  4],\n",
              "        [ 9, 64, 24,  ..., 55, 50, 55],\n",
              "        ...,\n",
              "        [ 1,  1,  1,  ...,  1,  1,  1],\n",
              "        [ 1,  1,  1,  ...,  1,  1,  1],\n",
              "        [ 1,  1,  1,  ...,  1,  1,  1]], device='cuda:0')"
            ]
          },
          "execution_count": 26,
          "metadata": {},
          "output_type": "execute_result"
        }
      ],
      "source": [
        "next(iter(train_iterator)).src\n",
        "next(iter(train_iterator)).trg"
      ]
    },
    {
      "cell_type": "code",
      "execution_count": 86,
      "metadata": {
        "id": "AVNBo1sIgc5T"
      },
      "outputs": [],
      "source": [
        "def inference(sentence):\n",
        "    # 입력 문장을 토큰화한다.\n",
        "    tokenized_sentence = tokenize_de(sentence)\n",
        "    # 토큰화된 문장을 숫자로 변환한다.\n",
        "    numericalized_sentence = [SRC.vocab.stoi[t] for t in tokenized_sentence]\n",
        "    # 숫자로 변환된 문장을 텐서로 변환한다.\n",
        "    sentence_tensor = torch.LongTensor(numericalized_sentence).reshape(-1, 1).to(device)\n",
        "    # 모델을 이용해 번역 문장의 확률 분포를 예측한다.\n",
        "    pred_probs = model(sentence_tensor, None, 0).squeeze(1)\n",
        "    # 예측된 확률 분포에서 가장 높은 값을 갖는 인덱스를 선택한다.\n",
        "    translation_tensor = torch.argmax(pred_probs, 1)\n",
        "    # 번역된 문장을 토큰화한다.\n",
        "    translation = [TRG.vocab.itos[t] for t in translation_tensor][1:]\n",
        "    # 번역된 문장을 반환한다.\n",
        "    return translation\n"
      ]
    },
    {
      "cell_type": "code",
      "execution_count": 135,
      "metadata": {},
      "outputs": [],
      "source": [
        "def inference(sentence, model=model, src_field=SRC, trg_field=TRG, max_len=50):\n",
        "    \n",
        "    model.eval()\n",
        "\n",
        "    # 토큰화\n",
        "    tokenized_sentence = tokenize_de(sentence)\n",
        "\n",
        "    # 입력 문장 숫자로 변환\n",
        "    numericalized = [src_field.vocab.stoi[t] for t in tokenized_sentence]\n",
        "    numericalized = torch.LongTensor(numericalized).unsqueeze(1).to(device)\n",
        "\n",
        "    # 출력 문장 초기화\n",
        "    trg_indexes = [trg_field.vocab.stoi[trg_field.init_token]]\n",
        "\n",
        "    # 초기 은닉 상태 생성\n",
        "    hidden = torch.zeros(1, 1,dec_hid_dim).to(device)\n",
        "\n",
        "    # 모델로 부터 출력 문장 예측\n",
        "    for i in range(max_len):\n",
        "        output, hidden = model.decoder(numericalized, hidden, model.encoder(numericalized))\n",
        "\n",
        "        # 출력 단어 예측\n",
        "        pred_token = output.argmax(2)[-1].item()\n",
        "\n",
        "        # 종료 조건 : <eos> 토큰 예측\n",
        "        if pred_token == trg_field.vocab.stoi[trg_field.eos_token]:\n",
        "            break\n",
        "\n",
        "        # 출력 문장에 예측한 토큰 추가\n",
        "        trg_indexes.append(pred_token)\n",
        "\n",
        "        # 마지막에 예측된 토큰을 기반으로 다음 입력 토큰 생성\n",
        "        numericalized = torch.LongTensor([pred_token]).unsqueeze(1).to(device)\n",
        "\n",
        "    # 숫자로 된 출력 문장을 텍스트로 변환\n",
        "    trg_tokens = [trg_field.vocab.itos[i] for i in trg_indexes]\n",
        "\n",
        "    return trg_tokens[1:]\n"
      ]
    },
    {
      "cell_type": "code",
      "execution_count": null,
      "metadata": {},
      "outputs": [],
      "source": [
        "def inference(sentence):\n",
        "    # 입력받은 문장을 출력한다.\n",
        "    print(sentence)"
      ]
    },
    {
      "cell_type": "code",
      "execution_count": 100,
      "metadata": {},
      "outputs": [
        {
          "data": {
            "text/plain": [
              "Seq2Seq(\n",
              "  (encoder): Encoder(\n",
              "    (embedding): Embedding(7853, 256)\n",
              "    (rnn): GRU(256, 512, bidirectional=True)\n",
              "    (fc): Linear(in_features=1024, out_features=512, bias=True)\n",
              "    (dropout): Dropout(p=0.5, inplace=False)\n",
              "  )\n",
              "  (decoder): Decoder(\n",
              "    (attention): Attention(\n",
              "      (attn): Linear(in_features=1536, out_features=512, bias=True)\n",
              "      (v): Linear(in_features=512, out_features=1, bias=False)\n",
              "    )\n",
              "    (embedding): Embedding(5893, 256)\n",
              "    (rnn): GRU(1280, 512)\n",
              "    (fc_out): Linear(in_features=1792, out_features=5893, bias=True)\n",
              "    (dropout): Dropout(p=0.5, inplace=False)\n",
              "  )\n",
              ")"
            ]
          },
          "execution_count": 100,
          "metadata": {},
          "output_type": "execute_result"
        }
      ],
      "source": [
        "model=Seq2Seq(enc, dec, device)\n",
        "model.state_dict = torch.load('tut3-model.pt')\n",
        "model.to(device)"
      ]
    },
    {
      "cell_type": "code",
      "execution_count": 87,
      "metadata": {
        "colab": {
          "base_uri": "https://localhost:8080/"
        },
        "id": "MP3SieRHjf_U",
        "outputId": "4ad13484-ef48-4d51-a68e-78552427c425"
      },
      "outputs": [
        {
          "name": "stdout",
          "output_type": "stream",
          "text": [
            "ein schwarzer hund und ein gefleckter hund kämpfen .\n",
            "a black dog and a spotted dog are fighting\n",
            ". kämpfen hund gefleckter ein und hund schwarzer ein\n"
          ]
        }
      ],
      "source": [
        "example_data = ' '.join(vars(train_data.examples[12])['src'])\n",
        "truth = ' '.join(vars(train_data.examples[12])['trg'])\n",
        "\n",
        "print(example_data)\n",
        "print(truth)\n",
        "print(' '.join(example_data.split()[::-1]))"
      ]
    },
    {
      "cell_type": "code",
      "execution_count": 136,
      "metadata": {
        "colab": {
          "base_uri": "https://localhost:8080/"
        },
        "id": "Duau4a1J8pco",
        "outputId": "f61ac46a-f13e-44ff-b095-ce2c24b6cefe"
      },
      "outputs": [
        {
          "ename": "AttributeError",
          "evalue": "'tuple' object has no attribute 'shape'",
          "output_type": "error",
          "traceback": [
            "\u001b[0;31m---------------------------------------------------------------------------\u001b[0m",
            "\u001b[0;31mAttributeError\u001b[0m                            Traceback (most recent call last)",
            "Cell \u001b[0;32mIn[136], line 1\u001b[0m\n\u001b[0;32m----> 1\u001b[0m inference(example_data)\n",
            "Cell \u001b[0;32mIn[135], line 20\u001b[0m, in \u001b[0;36minference\u001b[0;34m(sentence, model, src_field, trg_field, max_len)\u001b[0m\n\u001b[1;32m     18\u001b[0m \u001b[39m# 모델로 부터 출력 문장 예측\u001b[39;00m\n\u001b[1;32m     19\u001b[0m \u001b[39mfor\u001b[39;00m i \u001b[39min\u001b[39;00m \u001b[39mrange\u001b[39m(max_len):\n\u001b[0;32m---> 20\u001b[0m     output, hidden \u001b[39m=\u001b[39m model\u001b[39m.\u001b[39;49mdecoder(numericalized, hidden, model\u001b[39m.\u001b[39;49mencoder(numericalized))\n\u001b[1;32m     22\u001b[0m     \u001b[39m# 출력 단어 예측\u001b[39;00m\n\u001b[1;32m     23\u001b[0m     pred_token \u001b[39m=\u001b[39m output\u001b[39m.\u001b[39margmax(\u001b[39m2\u001b[39m)[\u001b[39m-\u001b[39m\u001b[39m1\u001b[39m]\u001b[39m.\u001b[39mitem()\n",
            "File \u001b[0;32m~/anaconda3/envs/txtlegacy/lib/python3.9/site-packages/torch/nn/modules/module.py:1102\u001b[0m, in \u001b[0;36mModule._call_impl\u001b[0;34m(self, *input, **kwargs)\u001b[0m\n\u001b[1;32m   1098\u001b[0m \u001b[39m# If we don't have any hooks, we want to skip the rest of the logic in\u001b[39;00m\n\u001b[1;32m   1099\u001b[0m \u001b[39m# this function, and just call forward.\u001b[39;00m\n\u001b[1;32m   1100\u001b[0m \u001b[39mif\u001b[39;00m \u001b[39mnot\u001b[39;00m (\u001b[39mself\u001b[39m\u001b[39m.\u001b[39m_backward_hooks \u001b[39mor\u001b[39;00m \u001b[39mself\u001b[39m\u001b[39m.\u001b[39m_forward_hooks \u001b[39mor\u001b[39;00m \u001b[39mself\u001b[39m\u001b[39m.\u001b[39m_forward_pre_hooks \u001b[39mor\u001b[39;00m _global_backward_hooks\n\u001b[1;32m   1101\u001b[0m         \u001b[39mor\u001b[39;00m _global_forward_hooks \u001b[39mor\u001b[39;00m _global_forward_pre_hooks):\n\u001b[0;32m-> 1102\u001b[0m     \u001b[39mreturn\u001b[39;00m forward_call(\u001b[39m*\u001b[39;49m\u001b[39minput\u001b[39;49m, \u001b[39m*\u001b[39;49m\u001b[39m*\u001b[39;49mkwargs)\n\u001b[1;32m   1103\u001b[0m \u001b[39m# Do not call functions when jit is used\u001b[39;00m\n\u001b[1;32m   1104\u001b[0m full_backward_hooks, non_full_backward_hooks \u001b[39m=\u001b[39m [], []\n",
            "Cell \u001b[0;32mIn[95], line 38\u001b[0m, in \u001b[0;36mDecoder.forward\u001b[0;34m(self, input, hidden, encoder_outputs)\u001b[0m\n\u001b[1;32m     34\u001b[0m embedded \u001b[39m=\u001b[39m \u001b[39mself\u001b[39m\u001b[39m.\u001b[39mdropout(\u001b[39mself\u001b[39m\u001b[39m.\u001b[39membedding(\u001b[39minput\u001b[39m))\n\u001b[1;32m     36\u001b[0m \u001b[39m#embedded = [1, batch size, emb dim]\u001b[39;00m\n\u001b[0;32m---> 38\u001b[0m a \u001b[39m=\u001b[39m \u001b[39mself\u001b[39;49m\u001b[39m.\u001b[39;49mattention(hidden, encoder_outputs)\n\u001b[1;32m     40\u001b[0m \u001b[39m#a = [batch size, src len]\u001b[39;00m\n\u001b[1;32m     42\u001b[0m a \u001b[39m=\u001b[39m a\u001b[39m.\u001b[39munsqueeze(\u001b[39m1\u001b[39m)\n",
            "File \u001b[0;32m~/anaconda3/envs/txtlegacy/lib/python3.9/site-packages/torch/nn/modules/module.py:1102\u001b[0m, in \u001b[0;36mModule._call_impl\u001b[0;34m(self, *input, **kwargs)\u001b[0m\n\u001b[1;32m   1098\u001b[0m \u001b[39m# If we don't have any hooks, we want to skip the rest of the logic in\u001b[39;00m\n\u001b[1;32m   1099\u001b[0m \u001b[39m# this function, and just call forward.\u001b[39;00m\n\u001b[1;32m   1100\u001b[0m \u001b[39mif\u001b[39;00m \u001b[39mnot\u001b[39;00m (\u001b[39mself\u001b[39m\u001b[39m.\u001b[39m_backward_hooks \u001b[39mor\u001b[39;00m \u001b[39mself\u001b[39m\u001b[39m.\u001b[39m_forward_hooks \u001b[39mor\u001b[39;00m \u001b[39mself\u001b[39m\u001b[39m.\u001b[39m_forward_pre_hooks \u001b[39mor\u001b[39;00m _global_backward_hooks\n\u001b[1;32m   1101\u001b[0m         \u001b[39mor\u001b[39;00m _global_forward_hooks \u001b[39mor\u001b[39;00m _global_forward_pre_hooks):\n\u001b[0;32m-> 1102\u001b[0m     \u001b[39mreturn\u001b[39;00m forward_call(\u001b[39m*\u001b[39;49m\u001b[39minput\u001b[39;49m, \u001b[39m*\u001b[39;49m\u001b[39m*\u001b[39;49mkwargs)\n\u001b[1;32m   1103\u001b[0m \u001b[39m# Do not call functions when jit is used\u001b[39;00m\n\u001b[1;32m   1104\u001b[0m full_backward_hooks, non_full_backward_hooks \u001b[39m=\u001b[39m [], []\n",
            "Cell \u001b[0;32mIn[70], line 13\u001b[0m, in \u001b[0;36mAttention.forward\u001b[0;34m(self, hidden, encoder_outputs)\u001b[0m\n\u001b[1;32m      8\u001b[0m \u001b[39mdef\u001b[39;00m \u001b[39mforward\u001b[39m(\u001b[39mself\u001b[39m, hidden, encoder_outputs):\n\u001b[1;32m      9\u001b[0m     \n\u001b[1;32m     10\u001b[0m     \u001b[39m#hidden = [batch size, dec hid dim]\u001b[39;00m\n\u001b[1;32m     11\u001b[0m     \u001b[39m#encoder_outputs = [src len, batch size, enc hid dim * 2]\u001b[39;00m\n\u001b[0;32m---> 13\u001b[0m     batch_size \u001b[39m=\u001b[39m encoder_outputs\u001b[39m.\u001b[39;49mshape[\u001b[39m1\u001b[39m]\n\u001b[1;32m     14\u001b[0m     src_len \u001b[39m=\u001b[39m encoder_outputs\u001b[39m.\u001b[39mshape[\u001b[39m0\u001b[39m]\n\u001b[1;32m     16\u001b[0m     \u001b[39m#repeat decoder hidden state src_len times\u001b[39;00m\n",
            "\u001b[0;31mAttributeError\u001b[0m: 'tuple' object has no attribute 'shape'"
          ]
        }
      ],
      "source": [
        "inference(example_data)"
      ]
    },
    {
      "cell_type": "code",
      "execution_count": 102,
      "metadata": {
        "colab": {
          "base_uri": "https://localhost:8080/"
        },
        "id": "8cXClbnRvh-7",
        "outputId": "dddca915-898f-488f-8c6f-f9fc847705aa"
      },
      "outputs": [
        {
          "data": {
            "text/plain": [
              "['filmed',\n",
              " 'clothed',\n",
              " 'pier',\n",
              " 'outside',\n",
              " 'welcome',\n",
              " '10',\n",
              " 'dorm',\n",
              " 'have',\n",
              " 'voice',\n",
              " 'bubbles',\n",
              " 'headband',\n",
              " 'american',\n",
              " 'miniskirt',\n",
              " 'contained',\n",
              " 'snowflakes',\n",
              " 'testing',\n",
              " 'designed',\n",
              " 'crosses',\n",
              " 'cobbled',\n",
              " 'built',\n",
              " 'median',\n",
              " 'golf',\n",
              " 'curling',\n",
              " 'cars']"
            ]
          },
          "execution_count": 102,
          "metadata": {},
          "output_type": "execute_result"
        }
      ],
      "source": [
        "inference(\"Ich bin Master-Student an der Graduate School der Sogang University.\")"
      ]
    },
    {
      "cell_type": "code",
      "execution_count": null,
      "metadata": {},
      "outputs": [],
      "source": []
    },
    {
      "cell_type": "markdown",
      "metadata": {},
      "source": []
    }
  ],
  "metadata": {
    "accelerator": "GPU",
    "colab": {
      "provenance": []
    },
    "gpuClass": "standard",
    "kernelspec": {
      "display_name": "txtlegacy",
      "language": "python",
      "name": "python3"
    },
    "language_info": {
      "codemirror_mode": {
        "name": "ipython",
        "version": 3
      },
      "file_extension": ".py",
      "mimetype": "text/x-python",
      "name": "python",
      "nbconvert_exporter": "python",
      "pygments_lexer": "ipython3",
      "version": "3.9.16"
    },
    "vscode": {
      "interpreter": {
        "hash": "1daa5c9294142a638f4576ac9a21ba53e71f9de00ae22b472d5526381e070ab9"
      }
    }
  },
  "nbformat": 4,
  "nbformat_minor": 0
}
